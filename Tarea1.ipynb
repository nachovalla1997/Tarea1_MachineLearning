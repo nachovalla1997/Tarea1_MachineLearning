{
  "nbformat": 4,
  "nbformat_minor": 0,
  "metadata": {
    "colab": {
      "name": "Tarea1.ipynb",
      "provenance": [],
      "collapsed_sections": [],
      "toc_visible": true,
      "include_colab_link": true
    },
    "kernelspec": {
      "name": "python3",
      "display_name": "Python 3"
    }
  },
  "cells": [
    {
      "cell_type": "markdown",
      "metadata": {
        "id": "view-in-github",
        "colab_type": "text"
      },
      "source": [
        "<a href=\"https://colab.research.google.com/github/nachovalla1997/Tarea1_MachineLearning/blob/main/Tarea1.ipynb\" target=\"_parent\"><img src=\"https://colab.research.google.com/assets/colab-badge.svg\" alt=\"Open In Colab\"/></a>"
      ]
    },
    {
      "cell_type": "markdown",
      "metadata": {
        "id": "azGmdi_0oIu0"
      },
      "source": [
        "# Tarea 1"
      ]
    },
    {
      "cell_type": "markdown",
      "metadata": {
        "id": "0frx7HtVV-nE"
      },
      "source": [
        "\n",
        "La tarea siguiente implica el uso de un dataset real para el cual van a tener que entrenar un Árbol de decisión para detectar cancer de mama a partir de distintas mediciones. \n",
        "\n",
        "La descripción del dataset la pueden encontrar aquí: https://archive.ics.uci.edu/ml/datasets/Breast+Cancer+Wisconsin+%28Original%29"
      ]
    },
    {
      "cell_type": "code",
      "metadata": {
        "id": "iS3l2zFR81yf"
      },
      "source": [
        "# Importar librerias\n",
        "import pandas as pd\n",
        "import numpy as np\n",
        "import matplotlib as mpl\n",
        "import matplotlib.pyplot as plt\n",
        "import seaborn as sns\n",
        "from sklearn.preprocessing import MinMaxScaler, StandardScaler\n",
        "import pylab as pl\n",
        "from sklearn.model_selection import train_test_split\n",
        "from sklearn.tree import DecisionTreeClassifier\n",
        "from sklearn.metrics import accuracy_score\n",
        "import graphviz \n",
        "\n",
        "# Agregar librerias que entiendan necesarias para el trabajo"
      ],
      "execution_count": 233,
      "outputs": []
    },
    {
      "cell_type": "code",
      "metadata": {
        "id": "N4Bb_DEHWeso",
        "colab": {
          "base_uri": "https://localhost:8080/"
        },
        "outputId": "f7d1246f-f33c-4df5-f947-de2aaa9409b0"
      },
      "source": [
        "# Descargo dataset\n",
        "! wget -O breast_cancer.csv https://archive.ics.uci.edu/ml/machine-learning-databases/breast-cancer-wisconsin/breast-cancer-wisconsin.data\n"
      ],
      "execution_count": 234,
      "outputs": [
        {
          "output_type": "stream",
          "name": "stdout",
          "text": [
            "--2021-09-29 05:32:01--  https://archive.ics.uci.edu/ml/machine-learning-databases/breast-cancer-wisconsin/breast-cancer-wisconsin.data\n",
            "Resolving archive.ics.uci.edu (archive.ics.uci.edu)... 128.195.10.252\n",
            "Connecting to archive.ics.uci.edu (archive.ics.uci.edu)|128.195.10.252|:443... connected.\n",
            "HTTP request sent, awaiting response... 200 OK\n",
            "Length: 19889 (19K) [application/x-httpd-php]\n",
            "Saving to: ‘breast_cancer.csv’\n",
            "\n",
            "\rbreast_cancer.csv     0%[                    ]       0  --.-KB/s               \rbreast_cancer.csv   100%[===================>]  19.42K  --.-KB/s    in 0.03s   \n",
            "\n",
            "2021-09-29 05:32:01 (704 KB/s) - ‘breast_cancer.csv’ saved [19889/19889]\n",
            "\n"
          ]
        }
      ]
    },
    {
      "cell_type": "code",
      "metadata": {
        "id": "Iou3-ayM80jr"
      },
      "source": [
        "# Guardo dataset en un dataframes de pandas\n",
        "column_names = [\"Id\", \"clump_thicknes\", \"cell_size\", \"cell_shape\", \"adhesion\", \"epithelial_cell_size\", \"nuclei\", \"chromatin\", \"nucleoli\", \"mitoses\", \"target\"]\n",
        "df = pd.read_csv(\"breast_cancer.csv\", header = None, names = column_names)"
      ],
      "execution_count": 235,
      "outputs": []
    },
    {
      "cell_type": "code",
      "metadata": {
        "colab": {
          "base_uri": "https://localhost:8080/",
          "height": 204
        },
        "id": "ExmXsqTK9PDY",
        "outputId": "557a7391-ec4f-43e1-cb6c-77a208c8abc9"
      },
      "source": [
        "df.head(5)\n",
        "\n",
        "# Nota: Tomar las variables como numéricas (no categóricas)"
      ],
      "execution_count": 236,
      "outputs": [
        {
          "output_type": "execute_result",
          "data": {
            "text/html": [
              "<div>\n",
              "<style scoped>\n",
              "    .dataframe tbody tr th:only-of-type {\n",
              "        vertical-align: middle;\n",
              "    }\n",
              "\n",
              "    .dataframe tbody tr th {\n",
              "        vertical-align: top;\n",
              "    }\n",
              "\n",
              "    .dataframe thead th {\n",
              "        text-align: right;\n",
              "    }\n",
              "</style>\n",
              "<table border=\"1\" class=\"dataframe\">\n",
              "  <thead>\n",
              "    <tr style=\"text-align: right;\">\n",
              "      <th></th>\n",
              "      <th>Id</th>\n",
              "      <th>clump_thicknes</th>\n",
              "      <th>cell_size</th>\n",
              "      <th>cell_shape</th>\n",
              "      <th>adhesion</th>\n",
              "      <th>epithelial_cell_size</th>\n",
              "      <th>nuclei</th>\n",
              "      <th>chromatin</th>\n",
              "      <th>nucleoli</th>\n",
              "      <th>mitoses</th>\n",
              "      <th>target</th>\n",
              "    </tr>\n",
              "  </thead>\n",
              "  <tbody>\n",
              "    <tr>\n",
              "      <th>0</th>\n",
              "      <td>1000025</td>\n",
              "      <td>5</td>\n",
              "      <td>1</td>\n",
              "      <td>1</td>\n",
              "      <td>1</td>\n",
              "      <td>2</td>\n",
              "      <td>1</td>\n",
              "      <td>3</td>\n",
              "      <td>1</td>\n",
              "      <td>1</td>\n",
              "      <td>2</td>\n",
              "    </tr>\n",
              "    <tr>\n",
              "      <th>1</th>\n",
              "      <td>1002945</td>\n",
              "      <td>5</td>\n",
              "      <td>4</td>\n",
              "      <td>4</td>\n",
              "      <td>5</td>\n",
              "      <td>7</td>\n",
              "      <td>10</td>\n",
              "      <td>3</td>\n",
              "      <td>2</td>\n",
              "      <td>1</td>\n",
              "      <td>2</td>\n",
              "    </tr>\n",
              "    <tr>\n",
              "      <th>2</th>\n",
              "      <td>1015425</td>\n",
              "      <td>3</td>\n",
              "      <td>1</td>\n",
              "      <td>1</td>\n",
              "      <td>1</td>\n",
              "      <td>2</td>\n",
              "      <td>2</td>\n",
              "      <td>3</td>\n",
              "      <td>1</td>\n",
              "      <td>1</td>\n",
              "      <td>2</td>\n",
              "    </tr>\n",
              "    <tr>\n",
              "      <th>3</th>\n",
              "      <td>1016277</td>\n",
              "      <td>6</td>\n",
              "      <td>8</td>\n",
              "      <td>8</td>\n",
              "      <td>1</td>\n",
              "      <td>3</td>\n",
              "      <td>4</td>\n",
              "      <td>3</td>\n",
              "      <td>7</td>\n",
              "      <td>1</td>\n",
              "      <td>2</td>\n",
              "    </tr>\n",
              "    <tr>\n",
              "      <th>4</th>\n",
              "      <td>1017023</td>\n",
              "      <td>4</td>\n",
              "      <td>1</td>\n",
              "      <td>1</td>\n",
              "      <td>3</td>\n",
              "      <td>2</td>\n",
              "      <td>1</td>\n",
              "      <td>3</td>\n",
              "      <td>1</td>\n",
              "      <td>1</td>\n",
              "      <td>2</td>\n",
              "    </tr>\n",
              "  </tbody>\n",
              "</table>\n",
              "</div>"
            ],
            "text/plain": [
              "        Id  clump_thicknes  cell_size  ...  nucleoli  mitoses  target\n",
              "0  1000025               5          1  ...         1        1       2\n",
              "1  1002945               5          4  ...         2        1       2\n",
              "2  1015425               3          1  ...         1        1       2\n",
              "3  1016277               6          8  ...         7        1       2\n",
              "4  1017023               4          1  ...         1        1       2\n",
              "\n",
              "[5 rows x 11 columns]"
            ]
          },
          "metadata": {},
          "execution_count": 236
        }
      ]
    },
    {
      "cell_type": "code",
      "metadata": {
        "id": "e9TlowBa9Noe"
      },
      "source": [
        "# Dejamos como índice la columna ID\n",
        "df.set_index(\"Id\", inplace = True)"
      ],
      "execution_count": 237,
      "outputs": []
    },
    {
      "cell_type": "code",
      "metadata": {
        "colab": {
          "base_uri": "https://localhost:8080/",
          "height": 450
        },
        "id": "e17MoNHayprX",
        "outputId": "cfbfbf69-245c-494e-a91f-8726b5da8fee"
      },
      "source": [
        "df"
      ],
      "execution_count": 238,
      "outputs": [
        {
          "output_type": "execute_result",
          "data": {
            "text/html": [
              "<div>\n",
              "<style scoped>\n",
              "    .dataframe tbody tr th:only-of-type {\n",
              "        vertical-align: middle;\n",
              "    }\n",
              "\n",
              "    .dataframe tbody tr th {\n",
              "        vertical-align: top;\n",
              "    }\n",
              "\n",
              "    .dataframe thead th {\n",
              "        text-align: right;\n",
              "    }\n",
              "</style>\n",
              "<table border=\"1\" class=\"dataframe\">\n",
              "  <thead>\n",
              "    <tr style=\"text-align: right;\">\n",
              "      <th></th>\n",
              "      <th>clump_thicknes</th>\n",
              "      <th>cell_size</th>\n",
              "      <th>cell_shape</th>\n",
              "      <th>adhesion</th>\n",
              "      <th>epithelial_cell_size</th>\n",
              "      <th>nuclei</th>\n",
              "      <th>chromatin</th>\n",
              "      <th>nucleoli</th>\n",
              "      <th>mitoses</th>\n",
              "      <th>target</th>\n",
              "    </tr>\n",
              "    <tr>\n",
              "      <th>Id</th>\n",
              "      <th></th>\n",
              "      <th></th>\n",
              "      <th></th>\n",
              "      <th></th>\n",
              "      <th></th>\n",
              "      <th></th>\n",
              "      <th></th>\n",
              "      <th></th>\n",
              "      <th></th>\n",
              "      <th></th>\n",
              "    </tr>\n",
              "  </thead>\n",
              "  <tbody>\n",
              "    <tr>\n",
              "      <th>1000025</th>\n",
              "      <td>5</td>\n",
              "      <td>1</td>\n",
              "      <td>1</td>\n",
              "      <td>1</td>\n",
              "      <td>2</td>\n",
              "      <td>1</td>\n",
              "      <td>3</td>\n",
              "      <td>1</td>\n",
              "      <td>1</td>\n",
              "      <td>2</td>\n",
              "    </tr>\n",
              "    <tr>\n",
              "      <th>1002945</th>\n",
              "      <td>5</td>\n",
              "      <td>4</td>\n",
              "      <td>4</td>\n",
              "      <td>5</td>\n",
              "      <td>7</td>\n",
              "      <td>10</td>\n",
              "      <td>3</td>\n",
              "      <td>2</td>\n",
              "      <td>1</td>\n",
              "      <td>2</td>\n",
              "    </tr>\n",
              "    <tr>\n",
              "      <th>1015425</th>\n",
              "      <td>3</td>\n",
              "      <td>1</td>\n",
              "      <td>1</td>\n",
              "      <td>1</td>\n",
              "      <td>2</td>\n",
              "      <td>2</td>\n",
              "      <td>3</td>\n",
              "      <td>1</td>\n",
              "      <td>1</td>\n",
              "      <td>2</td>\n",
              "    </tr>\n",
              "    <tr>\n",
              "      <th>1016277</th>\n",
              "      <td>6</td>\n",
              "      <td>8</td>\n",
              "      <td>8</td>\n",
              "      <td>1</td>\n",
              "      <td>3</td>\n",
              "      <td>4</td>\n",
              "      <td>3</td>\n",
              "      <td>7</td>\n",
              "      <td>1</td>\n",
              "      <td>2</td>\n",
              "    </tr>\n",
              "    <tr>\n",
              "      <th>1017023</th>\n",
              "      <td>4</td>\n",
              "      <td>1</td>\n",
              "      <td>1</td>\n",
              "      <td>3</td>\n",
              "      <td>2</td>\n",
              "      <td>1</td>\n",
              "      <td>3</td>\n",
              "      <td>1</td>\n",
              "      <td>1</td>\n",
              "      <td>2</td>\n",
              "    </tr>\n",
              "    <tr>\n",
              "      <th>...</th>\n",
              "      <td>...</td>\n",
              "      <td>...</td>\n",
              "      <td>...</td>\n",
              "      <td>...</td>\n",
              "      <td>...</td>\n",
              "      <td>...</td>\n",
              "      <td>...</td>\n",
              "      <td>...</td>\n",
              "      <td>...</td>\n",
              "      <td>...</td>\n",
              "    </tr>\n",
              "    <tr>\n",
              "      <th>776715</th>\n",
              "      <td>3</td>\n",
              "      <td>1</td>\n",
              "      <td>1</td>\n",
              "      <td>1</td>\n",
              "      <td>3</td>\n",
              "      <td>2</td>\n",
              "      <td>1</td>\n",
              "      <td>1</td>\n",
              "      <td>1</td>\n",
              "      <td>2</td>\n",
              "    </tr>\n",
              "    <tr>\n",
              "      <th>841769</th>\n",
              "      <td>2</td>\n",
              "      <td>1</td>\n",
              "      <td>1</td>\n",
              "      <td>1</td>\n",
              "      <td>2</td>\n",
              "      <td>1</td>\n",
              "      <td>1</td>\n",
              "      <td>1</td>\n",
              "      <td>1</td>\n",
              "      <td>2</td>\n",
              "    </tr>\n",
              "    <tr>\n",
              "      <th>888820</th>\n",
              "      <td>5</td>\n",
              "      <td>10</td>\n",
              "      <td>10</td>\n",
              "      <td>3</td>\n",
              "      <td>7</td>\n",
              "      <td>3</td>\n",
              "      <td>8</td>\n",
              "      <td>10</td>\n",
              "      <td>2</td>\n",
              "      <td>4</td>\n",
              "    </tr>\n",
              "    <tr>\n",
              "      <th>897471</th>\n",
              "      <td>4</td>\n",
              "      <td>8</td>\n",
              "      <td>6</td>\n",
              "      <td>4</td>\n",
              "      <td>3</td>\n",
              "      <td>4</td>\n",
              "      <td>10</td>\n",
              "      <td>6</td>\n",
              "      <td>1</td>\n",
              "      <td>4</td>\n",
              "    </tr>\n",
              "    <tr>\n",
              "      <th>897471</th>\n",
              "      <td>4</td>\n",
              "      <td>8</td>\n",
              "      <td>8</td>\n",
              "      <td>5</td>\n",
              "      <td>4</td>\n",
              "      <td>5</td>\n",
              "      <td>10</td>\n",
              "      <td>4</td>\n",
              "      <td>1</td>\n",
              "      <td>4</td>\n",
              "    </tr>\n",
              "  </tbody>\n",
              "</table>\n",
              "<p>699 rows × 10 columns</p>\n",
              "</div>"
            ],
            "text/plain": [
              "         clump_thicknes  cell_size  cell_shape  ...  nucleoli  mitoses target\n",
              "Id                                              ...                          \n",
              "1000025               5          1           1  ...         1        1      2\n",
              "1002945               5          4           4  ...         2        1      2\n",
              "1015425               3          1           1  ...         1        1      2\n",
              "1016277               6          8           8  ...         7        1      2\n",
              "1017023               4          1           1  ...         1        1      2\n",
              "...                 ...        ...         ...  ...       ...      ...    ...\n",
              "776715                3          1           1  ...         1        1      2\n",
              "841769                2          1           1  ...         1        1      2\n",
              "888820                5         10          10  ...        10        2      4\n",
              "897471                4          8           6  ...         6        1      4\n",
              "897471                4          8           8  ...         4        1      4\n",
              "\n",
              "[699 rows x 10 columns]"
            ]
          },
          "metadata": {},
          "execution_count": 238
        }
      ]
    },
    {
      "cell_type": "code",
      "metadata": {
        "id": "Yi9OOBS-fYjT"
      },
      "source": [
        "df[\"nuclei\"].replace('?', np.nan, inplace = True)"
      ],
      "execution_count": 239,
      "outputs": []
    },
    {
      "cell_type": "code",
      "metadata": {
        "id": "fNqsoUyfDZ2E"
      },
      "source": [
        "# En el dataset las clases son 2 y 4 que representan Benigno y Maligno, vamos a reemplazarlas por 0 y 1 por simplicidad.\n",
        "df[\"target\"].replace(2, 0, inplace = True)\n",
        "df[\"target\"].replace(4, 1, inplace = True)\n",
        "\n",
        "# 2 era cancer benigno (ahora es 0)\n",
        "# 4 era cancer maligno (ahora es 1)"
      ],
      "execution_count": 240,
      "outputs": []
    },
    {
      "cell_type": "code",
      "metadata": {
        "colab": {
          "base_uri": "https://localhost:8080/",
          "height": 450
        },
        "id": "24KNT_hDfxSc",
        "outputId": "b63a5604-14dd-40a7-bb64-e20028bdd386"
      },
      "source": [
        "df.head(100)\n"
      ],
      "execution_count": 241,
      "outputs": [
        {
          "output_type": "execute_result",
          "data": {
            "text/html": [
              "<div>\n",
              "<style scoped>\n",
              "    .dataframe tbody tr th:only-of-type {\n",
              "        vertical-align: middle;\n",
              "    }\n",
              "\n",
              "    .dataframe tbody tr th {\n",
              "        vertical-align: top;\n",
              "    }\n",
              "\n",
              "    .dataframe thead th {\n",
              "        text-align: right;\n",
              "    }\n",
              "</style>\n",
              "<table border=\"1\" class=\"dataframe\">\n",
              "  <thead>\n",
              "    <tr style=\"text-align: right;\">\n",
              "      <th></th>\n",
              "      <th>clump_thicknes</th>\n",
              "      <th>cell_size</th>\n",
              "      <th>cell_shape</th>\n",
              "      <th>adhesion</th>\n",
              "      <th>epithelial_cell_size</th>\n",
              "      <th>nuclei</th>\n",
              "      <th>chromatin</th>\n",
              "      <th>nucleoli</th>\n",
              "      <th>mitoses</th>\n",
              "      <th>target</th>\n",
              "    </tr>\n",
              "    <tr>\n",
              "      <th>Id</th>\n",
              "      <th></th>\n",
              "      <th></th>\n",
              "      <th></th>\n",
              "      <th></th>\n",
              "      <th></th>\n",
              "      <th></th>\n",
              "      <th></th>\n",
              "      <th></th>\n",
              "      <th></th>\n",
              "      <th></th>\n",
              "    </tr>\n",
              "  </thead>\n",
              "  <tbody>\n",
              "    <tr>\n",
              "      <th>1000025</th>\n",
              "      <td>5</td>\n",
              "      <td>1</td>\n",
              "      <td>1</td>\n",
              "      <td>1</td>\n",
              "      <td>2</td>\n",
              "      <td>1</td>\n",
              "      <td>3</td>\n",
              "      <td>1</td>\n",
              "      <td>1</td>\n",
              "      <td>0</td>\n",
              "    </tr>\n",
              "    <tr>\n",
              "      <th>1002945</th>\n",
              "      <td>5</td>\n",
              "      <td>4</td>\n",
              "      <td>4</td>\n",
              "      <td>5</td>\n",
              "      <td>7</td>\n",
              "      <td>10</td>\n",
              "      <td>3</td>\n",
              "      <td>2</td>\n",
              "      <td>1</td>\n",
              "      <td>0</td>\n",
              "    </tr>\n",
              "    <tr>\n",
              "      <th>1015425</th>\n",
              "      <td>3</td>\n",
              "      <td>1</td>\n",
              "      <td>1</td>\n",
              "      <td>1</td>\n",
              "      <td>2</td>\n",
              "      <td>2</td>\n",
              "      <td>3</td>\n",
              "      <td>1</td>\n",
              "      <td>1</td>\n",
              "      <td>0</td>\n",
              "    </tr>\n",
              "    <tr>\n",
              "      <th>1016277</th>\n",
              "      <td>6</td>\n",
              "      <td>8</td>\n",
              "      <td>8</td>\n",
              "      <td>1</td>\n",
              "      <td>3</td>\n",
              "      <td>4</td>\n",
              "      <td>3</td>\n",
              "      <td>7</td>\n",
              "      <td>1</td>\n",
              "      <td>0</td>\n",
              "    </tr>\n",
              "    <tr>\n",
              "      <th>1017023</th>\n",
              "      <td>4</td>\n",
              "      <td>1</td>\n",
              "      <td>1</td>\n",
              "      <td>3</td>\n",
              "      <td>2</td>\n",
              "      <td>1</td>\n",
              "      <td>3</td>\n",
              "      <td>1</td>\n",
              "      <td>1</td>\n",
              "      <td>0</td>\n",
              "    </tr>\n",
              "    <tr>\n",
              "      <th>...</th>\n",
              "      <td>...</td>\n",
              "      <td>...</td>\n",
              "      <td>...</td>\n",
              "      <td>...</td>\n",
              "      <td>...</td>\n",
              "      <td>...</td>\n",
              "      <td>...</td>\n",
              "      <td>...</td>\n",
              "      <td>...</td>\n",
              "      <td>...</td>\n",
              "    </tr>\n",
              "    <tr>\n",
              "      <th>1164066</th>\n",
              "      <td>1</td>\n",
              "      <td>1</td>\n",
              "      <td>1</td>\n",
              "      <td>1</td>\n",
              "      <td>2</td>\n",
              "      <td>1</td>\n",
              "      <td>3</td>\n",
              "      <td>1</td>\n",
              "      <td>1</td>\n",
              "      <td>0</td>\n",
              "    </tr>\n",
              "    <tr>\n",
              "      <th>1165297</th>\n",
              "      <td>2</td>\n",
              "      <td>1</td>\n",
              "      <td>1</td>\n",
              "      <td>2</td>\n",
              "      <td>2</td>\n",
              "      <td>1</td>\n",
              "      <td>1</td>\n",
              "      <td>1</td>\n",
              "      <td>1</td>\n",
              "      <td>0</td>\n",
              "    </tr>\n",
              "    <tr>\n",
              "      <th>1165790</th>\n",
              "      <td>5</td>\n",
              "      <td>1</td>\n",
              "      <td>1</td>\n",
              "      <td>1</td>\n",
              "      <td>2</td>\n",
              "      <td>1</td>\n",
              "      <td>3</td>\n",
              "      <td>1</td>\n",
              "      <td>1</td>\n",
              "      <td>0</td>\n",
              "    </tr>\n",
              "    <tr>\n",
              "      <th>1165926</th>\n",
              "      <td>9</td>\n",
              "      <td>6</td>\n",
              "      <td>9</td>\n",
              "      <td>2</td>\n",
              "      <td>10</td>\n",
              "      <td>6</td>\n",
              "      <td>2</td>\n",
              "      <td>9</td>\n",
              "      <td>10</td>\n",
              "      <td>1</td>\n",
              "    </tr>\n",
              "    <tr>\n",
              "      <th>1166630</th>\n",
              "      <td>7</td>\n",
              "      <td>5</td>\n",
              "      <td>6</td>\n",
              "      <td>10</td>\n",
              "      <td>5</td>\n",
              "      <td>10</td>\n",
              "      <td>7</td>\n",
              "      <td>9</td>\n",
              "      <td>4</td>\n",
              "      <td>1</td>\n",
              "    </tr>\n",
              "  </tbody>\n",
              "</table>\n",
              "<p>100 rows × 10 columns</p>\n",
              "</div>"
            ],
            "text/plain": [
              "         clump_thicknes  cell_size  cell_shape  ...  nucleoli  mitoses target\n",
              "Id                                              ...                          \n",
              "1000025               5          1           1  ...         1        1      0\n",
              "1002945               5          4           4  ...         2        1      0\n",
              "1015425               3          1           1  ...         1        1      0\n",
              "1016277               6          8           8  ...         7        1      0\n",
              "1017023               4          1           1  ...         1        1      0\n",
              "...                 ...        ...         ...  ...       ...      ...    ...\n",
              "1164066               1          1           1  ...         1        1      0\n",
              "1165297               2          1           1  ...         1        1      0\n",
              "1165790               5          1           1  ...         1        1      0\n",
              "1165926               9          6           9  ...         9       10      1\n",
              "1166630               7          5           6  ...         9        4      1\n",
              "\n",
              "[100 rows x 10 columns]"
            ]
          },
          "metadata": {},
          "execution_count": 241
        }
      ]
    },
    {
      "cell_type": "code",
      "metadata": {
        "id": "RJNhkH_Tgyz6"
      },
      "source": [
        "# Ya con esto separamos variables predictoras por un lado, y target por el otro\n",
        "\n",
        "x = df.drop(columns = \"target\")\n",
        "y = df[\"target\"]"
      ],
      "execution_count": 242,
      "outputs": []
    },
    {
      "cell_type": "markdown",
      "metadata": {
        "id": "5b_R-hFL9xJV"
      },
      "source": [
        "##Ejercicios\n",
        "\n",
        "\n",
        "**A - Análisis Exploratorio**\n",
        "\n",
        "Realice un análisis exploratorio de los datos para contestar mínimamente lo siguiente:\n",
        "\n",
        "1.   ¿Cuantos registros tiene el dataset? \n",
        "2.   ¿Cuantos features existen y de que tipo son? ¿Habría que modificar alguno?\n",
        "3.   ¿Cuantos registros hay Benignos (0) y Malignos (1)?\n",
        "4. ¿Existen variables correlacionadas? Si es así, realice las modificaciones que crea pertinente\n",
        "5. ¿Es necesario utilizar one hot enconding? ¿Por qué?\n",
        "6. ¿Es necesario realizar feature scaling? ¿Por qué?\n",
        "7. ¿La media de las variables es diferente según si el registro es bengino o maligno?\n",
        "8. Grafique las variables separando registros bengignos vs malignos\n",
        "\n",
        "\n",
        "\n",
        "\n",
        "**B - Arbol de decisión**\n",
        "\n",
        "Cree un Árbol de Decisión para este set de datos que alcance al menos 93% de precisión. \n",
        "Recuerde realizar los siguientes pasos:\n",
        "- Separar los datos en conjuntos de entrenamiento y test\n",
        "- Entrenar el modelo\n",
        "- Evaluar el modelo\n",
        "- Graficar el arbol\n",
        "\n",
        "Explique por qué seleccionó el modelo final argumentando lo observado al modificar los distintos párametros del algoritmo, puede poner como ejemplo otros árboles.\n",
        "\n",
        "\n",
        "**Formato de entrega**: esta misma notebook en formato .ipynb, cambiar el nombre por ApellidoNombre1_ApellidoNombre2_Tarea_1.\n",
        "Es importante que la notebook pueda ejecutarse sin problemas al seleccionar 'Ejecutar todo'.\n",
        "\n",
        "\n",
        "**Plazo de entrega**: hasta el 30/09 por Aulas\n",
        "\n",
        "\n",
        "\n",
        "\n",
        "\n",
        "\n"
      ]
    },
    {
      "cell_type": "markdown",
      "metadata": {
        "id": "aaLO69qSI-Cg"
      },
      "source": [
        "## A - Análisis **Exploratorio**"
      ]
    },
    {
      "cell_type": "markdown",
      "metadata": {
        "id": "sAtmyzi8Gb_O"
      },
      "source": [
        "**¿Cuantos registros tiene el dataset?**"
      ]
    },
    {
      "cell_type": "code",
      "metadata": {
        "id": "FK7ENhfaJG_3",
        "colab": {
          "base_uri": "https://localhost:8080/"
        },
        "outputId": "cb8f3699-2e61-4d70-9fda-456291ec599e"
      },
      "source": [
        "len(df)"
      ],
      "execution_count": 243,
      "outputs": [
        {
          "output_type": "execute_result",
          "data": {
            "text/plain": [
              "699"
            ]
          },
          "metadata": {},
          "execution_count": 243
        }
      ]
    },
    {
      "cell_type": "markdown",
      "metadata": {
        "id": "PHXwReHfG41F"
      },
      "source": [
        "**¿Cuantos features existen y de que tipo son? ¿Habría que modificar alguno?**\n",
        "\n",
        "---\n",
        "\n"
      ]
    },
    {
      "cell_type": "code",
      "metadata": {
        "id": "N6HNKdKzJHLx",
        "colab": {
          "base_uri": "https://localhost:8080/"
        },
        "outputId": "e1e7ce25-5048-4d7a-d5db-d22dd57a6bf7"
      },
      "source": [
        "df.info()"
      ],
      "execution_count": 244,
      "outputs": [
        {
          "output_type": "stream",
          "name": "stdout",
          "text": [
            "<class 'pandas.core.frame.DataFrame'>\n",
            "Int64Index: 699 entries, 1000025 to 897471\n",
            "Data columns (total 10 columns):\n",
            " #   Column                Non-Null Count  Dtype \n",
            "---  ------                --------------  ----- \n",
            " 0   clump_thicknes        699 non-null    int64 \n",
            " 1   cell_size             699 non-null    int64 \n",
            " 2   cell_shape            699 non-null    int64 \n",
            " 3   adhesion              699 non-null    int64 \n",
            " 4   epithelial_cell_size  699 non-null    int64 \n",
            " 5   nuclei                683 non-null    object\n",
            " 6   chromatin             699 non-null    int64 \n",
            " 7   nucleoli              699 non-null    int64 \n",
            " 8   mitoses               699 non-null    int64 \n",
            " 9   target                699 non-null    int64 \n",
            "dtypes: int64(9), object(1)\n",
            "memory usage: 60.1+ KB\n"
          ]
        }
      ]
    },
    {
      "cell_type": "markdown",
      "metadata": {
        "id": "vTqnltq3HrU9"
      },
      "source": [
        "**\"Nota: Tomar las variables como numéricas (no categóricas)\"**\n",
        "En base a lo solicitado y a los datos de la feature 'nuclei' es que esta debe ser modificada a numérica. Modificamos está columna cambiando los NAN por el promedio y luego convirtiendo la columna a int64. \n",
        "Asimismo, en todas las features nos aseguramos de que no existan valores nulos, cambiandolos por el promedio de dicha feature.\n",
        "\n"
      ]
    },
    {
      "cell_type": "code",
      "metadata": {
        "colab": {
          "base_uri": "https://localhost:8080/"
        },
        "id": "xGCA3ZZVHEd2",
        "outputId": "aa92d760-0e10-43fb-fa02-46faa6ad286d"
      },
      "source": [
        "df['nuclei'] = df['nuclei'].astype(float)\n",
        "df['clump_thicknes'] = df['clump_thicknes'].fillna(df['clump_thicknes'].mean())\n",
        "df['nuccell_sizelei'] = df['cell_size'].fillna(df['cell_size'].mean())\n",
        "df['cell_shape'] = df['cell_shape'].fillna(df['cell_shape'].mean())\n",
        "df['adhesion'] = df['adhesion'].fillna(df['adhesion'].mean())\n",
        "df['epithelial_cell_size'] = df['epithelial_cell_size'].fillna(df['epithelial_cell_size'].mean())\n",
        "df['nuclei'] = df['nuclei'].fillna(df['nuclei'].mean())\n",
        "df['chromatin'] = df['chromatin'].fillna(df['chromatin'].mean())\n",
        "df['nucleoli'] = df['nucleoli'].fillna(df['nucleoli'].mean())\n",
        "df['mitoses'] = df['mitoses'].fillna(df['mitoses'].mean())\n",
        "#df['nuclei'] = df['nuclei'].fillna(0)\n",
        "df['nuclei'] = df['nuclei'].astype('int64')\n",
        "df.info()"
      ],
      "execution_count": 245,
      "outputs": [
        {
          "output_type": "stream",
          "name": "stdout",
          "text": [
            "<class 'pandas.core.frame.DataFrame'>\n",
            "Int64Index: 699 entries, 1000025 to 897471\n",
            "Data columns (total 11 columns):\n",
            " #   Column                Non-Null Count  Dtype\n",
            "---  ------                --------------  -----\n",
            " 0   clump_thicknes        699 non-null    int64\n",
            " 1   cell_size             699 non-null    int64\n",
            " 2   cell_shape            699 non-null    int64\n",
            " 3   adhesion              699 non-null    int64\n",
            " 4   epithelial_cell_size  699 non-null    int64\n",
            " 5   nuclei                699 non-null    int64\n",
            " 6   chromatin             699 non-null    int64\n",
            " 7   nucleoli              699 non-null    int64\n",
            " 8   mitoses               699 non-null    int64\n",
            " 9   target                699 non-null    int64\n",
            " 10  nuccell_sizelei       699 non-null    int64\n",
            "dtypes: int64(11)\n",
            "memory usage: 65.5 KB\n"
          ]
        }
      ]
    },
    {
      "cell_type": "markdown",
      "metadata": {
        "id": "05ZrurshQNQ4"
      },
      "source": [
        "**¿Cuantos registros hay Benignos (0) y Malignos (1)?**"
      ]
    },
    {
      "cell_type": "code",
      "metadata": {
        "colab": {
          "base_uri": "https://localhost:8080/"
        },
        "id": "crxQyk9uQLbY",
        "outputId": "1e034d72-5e17-4c49-d190-a88893a5c7f8"
      },
      "source": [
        "print('Cantidad de benignos: ' + ((str)(len(df.loc[df['target'] == 0]))))\n",
        "print('Cantidad de malignos: ' + ((str)(len(df.loc[df['target'] == 1]))))\n"
      ],
      "execution_count": 246,
      "outputs": [
        {
          "output_type": "stream",
          "name": "stdout",
          "text": [
            "Cantidad de benignos: 458\n",
            "Cantidad de malignos: 241\n"
          ]
        }
      ]
    },
    {
      "cell_type": "markdown",
      "metadata": {
        "id": "InqwfHBfSF8h"
      },
      "source": [
        "**¿Existen variables correlacionadas? Si es así, realice las modificaciones que crea pertinente**"
      ]
    },
    {
      "cell_type": "code",
      "metadata": {
        "colab": {
          "base_uri": "https://localhost:8080/",
          "height": 390
        },
        "id": "E97ouGBoSFHA",
        "outputId": "7fe31160-fd7e-4847-eba4-a15b9044c3d5"
      },
      "source": [
        "d_cor = df.corr()\n",
        "d_cor"
      ],
      "execution_count": 247,
      "outputs": [
        {
          "output_type": "execute_result",
          "data": {
            "text/html": [
              "<div>\n",
              "<style scoped>\n",
              "    .dataframe tbody tr th:only-of-type {\n",
              "        vertical-align: middle;\n",
              "    }\n",
              "\n",
              "    .dataframe tbody tr th {\n",
              "        vertical-align: top;\n",
              "    }\n",
              "\n",
              "    .dataframe thead th {\n",
              "        text-align: right;\n",
              "    }\n",
              "</style>\n",
              "<table border=\"1\" class=\"dataframe\">\n",
              "  <thead>\n",
              "    <tr style=\"text-align: right;\">\n",
              "      <th></th>\n",
              "      <th>clump_thicknes</th>\n",
              "      <th>cell_size</th>\n",
              "      <th>cell_shape</th>\n",
              "      <th>adhesion</th>\n",
              "      <th>epithelial_cell_size</th>\n",
              "      <th>nuclei</th>\n",
              "      <th>chromatin</th>\n",
              "      <th>nucleoli</th>\n",
              "      <th>mitoses</th>\n",
              "      <th>target</th>\n",
              "      <th>nuccell_sizelei</th>\n",
              "    </tr>\n",
              "  </thead>\n",
              "  <tbody>\n",
              "    <tr>\n",
              "      <th>clump_thicknes</th>\n",
              "      <td>1.000000</td>\n",
              "      <td>0.644913</td>\n",
              "      <td>0.654589</td>\n",
              "      <td>0.486356</td>\n",
              "      <td>0.521816</td>\n",
              "      <td>0.588433</td>\n",
              "      <td>0.558428</td>\n",
              "      <td>0.535835</td>\n",
              "      <td>0.350034</td>\n",
              "      <td>0.716001</td>\n",
              "      <td>0.644913</td>\n",
              "    </tr>\n",
              "    <tr>\n",
              "      <th>cell_size</th>\n",
              "      <td>0.644913</td>\n",
              "      <td>1.000000</td>\n",
              "      <td>0.906882</td>\n",
              "      <td>0.705582</td>\n",
              "      <td>0.751799</td>\n",
              "      <td>0.687417</td>\n",
              "      <td>0.755721</td>\n",
              "      <td>0.722865</td>\n",
              "      <td>0.458693</td>\n",
              "      <td>0.817904</td>\n",
              "      <td>1.000000</td>\n",
              "    </tr>\n",
              "    <tr>\n",
              "      <th>cell_shape</th>\n",
              "      <td>0.654589</td>\n",
              "      <td>0.906882</td>\n",
              "      <td>1.000000</td>\n",
              "      <td>0.683079</td>\n",
              "      <td>0.719668</td>\n",
              "      <td>0.709812</td>\n",
              "      <td>0.735948</td>\n",
              "      <td>0.719446</td>\n",
              "      <td>0.438911</td>\n",
              "      <td>0.818934</td>\n",
              "      <td>0.906882</td>\n",
              "    </tr>\n",
              "    <tr>\n",
              "      <th>adhesion</th>\n",
              "      <td>0.486356</td>\n",
              "      <td>0.705582</td>\n",
              "      <td>0.683079</td>\n",
              "      <td>1.000000</td>\n",
              "      <td>0.599599</td>\n",
              "      <td>0.666086</td>\n",
              "      <td>0.666715</td>\n",
              "      <td>0.603352</td>\n",
              "      <td>0.417633</td>\n",
              "      <td>0.696800</td>\n",
              "      <td>0.705582</td>\n",
              "    </tr>\n",
              "    <tr>\n",
              "      <th>epithelial_cell_size</th>\n",
              "      <td>0.521816</td>\n",
              "      <td>0.751799</td>\n",
              "      <td>0.719668</td>\n",
              "      <td>0.599599</td>\n",
              "      <td>1.000000</td>\n",
              "      <td>0.582331</td>\n",
              "      <td>0.616102</td>\n",
              "      <td>0.628881</td>\n",
              "      <td>0.479101</td>\n",
              "      <td>0.682785</td>\n",
              "      <td>0.751799</td>\n",
              "    </tr>\n",
              "    <tr>\n",
              "      <th>nuclei</th>\n",
              "      <td>0.588433</td>\n",
              "      <td>0.687417</td>\n",
              "      <td>0.709812</td>\n",
              "      <td>0.666086</td>\n",
              "      <td>0.582331</td>\n",
              "      <td>1.000000</td>\n",
              "      <td>0.676167</td>\n",
              "      <td>0.577347</td>\n",
              "      <td>0.339844</td>\n",
              "      <td>0.817442</td>\n",
              "      <td>0.687417</td>\n",
              "    </tr>\n",
              "    <tr>\n",
              "      <th>chromatin</th>\n",
              "      <td>0.558428</td>\n",
              "      <td>0.755721</td>\n",
              "      <td>0.735948</td>\n",
              "      <td>0.666715</td>\n",
              "      <td>0.616102</td>\n",
              "      <td>0.676167</td>\n",
              "      <td>1.000000</td>\n",
              "      <td>0.665878</td>\n",
              "      <td>0.344169</td>\n",
              "      <td>0.756616</td>\n",
              "      <td>0.755721</td>\n",
              "    </tr>\n",
              "    <tr>\n",
              "      <th>nucleoli</th>\n",
              "      <td>0.535835</td>\n",
              "      <td>0.722865</td>\n",
              "      <td>0.719446</td>\n",
              "      <td>0.603352</td>\n",
              "      <td>0.628881</td>\n",
              "      <td>0.577347</td>\n",
              "      <td>0.665878</td>\n",
              "      <td>1.000000</td>\n",
              "      <td>0.428336</td>\n",
              "      <td>0.712244</td>\n",
              "      <td>0.722865</td>\n",
              "    </tr>\n",
              "    <tr>\n",
              "      <th>mitoses</th>\n",
              "      <td>0.350034</td>\n",
              "      <td>0.458693</td>\n",
              "      <td>0.438911</td>\n",
              "      <td>0.417633</td>\n",
              "      <td>0.479101</td>\n",
              "      <td>0.339844</td>\n",
              "      <td>0.344169</td>\n",
              "      <td>0.428336</td>\n",
              "      <td>1.000000</td>\n",
              "      <td>0.423170</td>\n",
              "      <td>0.458693</td>\n",
              "    </tr>\n",
              "    <tr>\n",
              "      <th>target</th>\n",
              "      <td>0.716001</td>\n",
              "      <td>0.817904</td>\n",
              "      <td>0.818934</td>\n",
              "      <td>0.696800</td>\n",
              "      <td>0.682785</td>\n",
              "      <td>0.817442</td>\n",
              "      <td>0.756616</td>\n",
              "      <td>0.712244</td>\n",
              "      <td>0.423170</td>\n",
              "      <td>1.000000</td>\n",
              "      <td>0.817904</td>\n",
              "    </tr>\n",
              "    <tr>\n",
              "      <th>nuccell_sizelei</th>\n",
              "      <td>0.644913</td>\n",
              "      <td>1.000000</td>\n",
              "      <td>0.906882</td>\n",
              "      <td>0.705582</td>\n",
              "      <td>0.751799</td>\n",
              "      <td>0.687417</td>\n",
              "      <td>0.755721</td>\n",
              "      <td>0.722865</td>\n",
              "      <td>0.458693</td>\n",
              "      <td>0.817904</td>\n",
              "      <td>1.000000</td>\n",
              "    </tr>\n",
              "  </tbody>\n",
              "</table>\n",
              "</div>"
            ],
            "text/plain": [
              "                      clump_thicknes  cell_size  ...    target  nuccell_sizelei\n",
              "clump_thicknes              1.000000   0.644913  ...  0.716001         0.644913\n",
              "cell_size                   0.644913   1.000000  ...  0.817904         1.000000\n",
              "cell_shape                  0.654589   0.906882  ...  0.818934         0.906882\n",
              "adhesion                    0.486356   0.705582  ...  0.696800         0.705582\n",
              "epithelial_cell_size        0.521816   0.751799  ...  0.682785         0.751799\n",
              "nuclei                      0.588433   0.687417  ...  0.817442         0.687417\n",
              "chromatin                   0.558428   0.755721  ...  0.756616         0.755721\n",
              "nucleoli                    0.535835   0.722865  ...  0.712244         0.722865\n",
              "mitoses                     0.350034   0.458693  ...  0.423170         0.458693\n",
              "target                      0.716001   0.817904  ...  1.000000         0.817904\n",
              "nuccell_sizelei             0.644913   1.000000  ...  0.817904         1.000000\n",
              "\n",
              "[11 rows x 11 columns]"
            ]
          },
          "metadata": {},
          "execution_count": 247
        }
      ]
    },
    {
      "cell_type": "code",
      "metadata": {
        "colab": {
          "base_uri": "https://localhost:8080/",
          "height": 89
        },
        "id": "ioD9_0kvWaMq",
        "outputId": "b8a71cea-6880-4716-e5de-f95dcb2040a0"
      },
      "source": [
        "sns.palplot(sns.diverging_palette(90, 90, sep = 1, n = 20))"
      ],
      "execution_count": 248,
      "outputs": [
        {
          "output_type": "display_data",
          "data": {
            "image/png": "[encoded data removed]",
            "text/plain": [
              "<Figure size 1440x72 with 1 Axes>"
            ]
          },
          "metadata": {
            "needs_background": "light"
          }
        }
      ]
    },
    {
      "cell_type": "code",
      "metadata": {
        "colab": {
          "base_uri": "https://localhost:8080/",
          "height": 384
        },
        "id": "fJySY8lhW7cK",
        "outputId": "8e47f2d9-ea14-4035-f277-320d8c45113f"
      },
      "source": [
        "paletaColores = sns.diverging_palette(0, 100, sep = 10, as_cmap = False)\n",
        "\n",
        "sns.heatmap(df.corr(), annot = True, cmap = paletaColores, center = 0).set_title(\"Mapa de correlación\", fontsize = 16)\n",
        "#df2.plot.scatter(x = 'Age', y = 'Credit_amount')\n"
      ],
      "execution_count": 249,
      "outputs": [
        {
          "output_type": "execute_result",
          "data": {
            "text/plain": [
              "Text(0.5, 1.0, 'Mapa de correlación')"
            ]
          },
          "metadata": {},
          "execution_count": 249
        },
        {
          "output_type": "display_data",
          "data": {
            "image/png": "[encoded data removed]",
            "text/plain": [
              "<Figure size 432x288 with 2 Axes>"
            ]
          },
          "metadata": {
            "needs_background": "light"
          }
        }
      ]
    },
    {
      "cell_type": "markdown",
      "metadata": {
        "id": "rJnVmeroWM9H"
      },
      "source": [
        "Si, existen. Concideramos variables correlacionadas a las que están por encima de 0.68.\n"
      ]
    },
    {
      "cell_type": "code",
      "metadata": {
        "colab": {
          "base_uri": "https://localhost:8080/",
          "height": 328
        },
        "id": "tSYIiG-Peioh",
        "outputId": "358c4619-59ea-4afe-ab9f-0f5b6a3341bb"
      },
      "source": [
        "df_sin_corr = df\n",
        "df_sin_corr = df_sin_corr.drop(columns=['cell_size', 'cell_shape'])\n",
        "df_sin_corr.corr()\n"
      ],
      "execution_count": 250,
      "outputs": [
        {
          "output_type": "execute_result",
          "data": {
            "text/html": [
              "<div>\n",
              "<style scoped>\n",
              "    .dataframe tbody tr th:only-of-type {\n",
              "        vertical-align: middle;\n",
              "    }\n",
              "\n",
              "    .dataframe tbody tr th {\n",
              "        vertical-align: top;\n",
              "    }\n",
              "\n",
              "    .dataframe thead th {\n",
              "        text-align: right;\n",
              "    }\n",
              "</style>\n",
              "<table border=\"1\" class=\"dataframe\">\n",
              "  <thead>\n",
              "    <tr style=\"text-align: right;\">\n",
              "      <th></th>\n",
              "      <th>clump_thicknes</th>\n",
              "      <th>adhesion</th>\n",
              "      <th>epithelial_cell_size</th>\n",
              "      <th>nuclei</th>\n",
              "      <th>chromatin</th>\n",
              "      <th>nucleoli</th>\n",
              "      <th>mitoses</th>\n",
              "      <th>target</th>\n",
              "      <th>nuccell_sizelei</th>\n",
              "    </tr>\n",
              "  </thead>\n",
              "  <tbody>\n",
              "    <tr>\n",
              "      <th>clump_thicknes</th>\n",
              "      <td>1.000000</td>\n",
              "      <td>0.486356</td>\n",
              "      <td>0.521816</td>\n",
              "      <td>0.588433</td>\n",
              "      <td>0.558428</td>\n",
              "      <td>0.535835</td>\n",
              "      <td>0.350034</td>\n",
              "      <td>0.716001</td>\n",
              "      <td>0.644913</td>\n",
              "    </tr>\n",
              "    <tr>\n",
              "      <th>adhesion</th>\n",
              "      <td>0.486356</td>\n",
              "      <td>1.000000</td>\n",
              "      <td>0.599599</td>\n",
              "      <td>0.666086</td>\n",
              "      <td>0.666715</td>\n",
              "      <td>0.603352</td>\n",
              "      <td>0.417633</td>\n",
              "      <td>0.696800</td>\n",
              "      <td>0.705582</td>\n",
              "    </tr>\n",
              "    <tr>\n",
              "      <th>epithelial_cell_size</th>\n",
              "      <td>0.521816</td>\n",
              "      <td>0.599599</td>\n",
              "      <td>1.000000</td>\n",
              "      <td>0.582331</td>\n",
              "      <td>0.616102</td>\n",
              "      <td>0.628881</td>\n",
              "      <td>0.479101</td>\n",
              "      <td>0.682785</td>\n",
              "      <td>0.751799</td>\n",
              "    </tr>\n",
              "    <tr>\n",
              "      <th>nuclei</th>\n",
              "      <td>0.588433</td>\n",
              "      <td>0.666086</td>\n",
              "      <td>0.582331</td>\n",
              "      <td>1.000000</td>\n",
              "      <td>0.676167</td>\n",
              "      <td>0.577347</td>\n",
              "      <td>0.339844</td>\n",
              "      <td>0.817442</td>\n",
              "      <td>0.687417</td>\n",
              "    </tr>\n",
              "    <tr>\n",
              "      <th>chromatin</th>\n",
              "      <td>0.558428</td>\n",
              "      <td>0.666715</td>\n",
              "      <td>0.616102</td>\n",
              "      <td>0.676167</td>\n",
              "      <td>1.000000</td>\n",
              "      <td>0.665878</td>\n",
              "      <td>0.344169</td>\n",
              "      <td>0.756616</td>\n",
              "      <td>0.755721</td>\n",
              "    </tr>\n",
              "    <tr>\n",
              "      <th>nucleoli</th>\n",
              "      <td>0.535835</td>\n",
              "      <td>0.603352</td>\n",
              "      <td>0.628881</td>\n",
              "      <td>0.577347</td>\n",
              "      <td>0.665878</td>\n",
              "      <td>1.000000</td>\n",
              "      <td>0.428336</td>\n",
              "      <td>0.712244</td>\n",
              "      <td>0.722865</td>\n",
              "    </tr>\n",
              "    <tr>\n",
              "      <th>mitoses</th>\n",
              "      <td>0.350034</td>\n",
              "      <td>0.417633</td>\n",
              "      <td>0.479101</td>\n",
              "      <td>0.339844</td>\n",
              "      <td>0.344169</td>\n",
              "      <td>0.428336</td>\n",
              "      <td>1.000000</td>\n",
              "      <td>0.423170</td>\n",
              "      <td>0.458693</td>\n",
              "    </tr>\n",
              "    <tr>\n",
              "      <th>target</th>\n",
              "      <td>0.716001</td>\n",
              "      <td>0.696800</td>\n",
              "      <td>0.682785</td>\n",
              "      <td>0.817442</td>\n",
              "      <td>0.756616</td>\n",
              "      <td>0.712244</td>\n",
              "      <td>0.423170</td>\n",
              "      <td>1.000000</td>\n",
              "      <td>0.817904</td>\n",
              "    </tr>\n",
              "    <tr>\n",
              "      <th>nuccell_sizelei</th>\n",
              "      <td>0.644913</td>\n",
              "      <td>0.705582</td>\n",
              "      <td>0.751799</td>\n",
              "      <td>0.687417</td>\n",
              "      <td>0.755721</td>\n",
              "      <td>0.722865</td>\n",
              "      <td>0.458693</td>\n",
              "      <td>0.817904</td>\n",
              "      <td>1.000000</td>\n",
              "    </tr>\n",
              "  </tbody>\n",
              "</table>\n",
              "</div>"
            ],
            "text/plain": [
              "                      clump_thicknes  adhesion  ...    target  nuccell_sizelei\n",
              "clump_thicknes              1.000000  0.486356  ...  0.716001         0.644913\n",
              "adhesion                    0.486356  1.000000  ...  0.696800         0.705582\n",
              "epithelial_cell_size        0.521816  0.599599  ...  0.682785         0.751799\n",
              "nuclei                      0.588433  0.666086  ...  0.817442         0.687417\n",
              "chromatin                   0.558428  0.666715  ...  0.756616         0.755721\n",
              "nucleoli                    0.535835  0.603352  ...  0.712244         0.722865\n",
              "mitoses                     0.350034  0.417633  ...  0.423170         0.458693\n",
              "target                      0.716001  0.696800  ...  1.000000         0.817904\n",
              "nuccell_sizelei             0.644913  0.705582  ...  0.817904         1.000000\n",
              "\n",
              "[9 rows x 9 columns]"
            ]
          },
          "metadata": {},
          "execution_count": 250
        }
      ]
    },
    {
      "cell_type": "code",
      "metadata": {
        "colab": {
          "base_uri": "https://localhost:8080/",
          "height": 384
        },
        "id": "SSsGvB9DfxN2",
        "outputId": "cee6c23a-41b9-45dc-e076-4c2df9389cec"
      },
      "source": [
        "sns.heatmap(df_sin_corr.corr(), annot = True, cmap = paletaColores, center = 0).set_title(\"Nuevo Mapa de correlación\", fontsize = 16)"
      ],
      "execution_count": 251,
      "outputs": [
        {
          "output_type": "execute_result",
          "data": {
            "text/plain": [
              "Text(0.5, 1.0, 'Nuevo Mapa de correlación')"
            ]
          },
          "metadata": {},
          "execution_count": 251
        },
        {
          "output_type": "display_data",
          "data": {
            "image/png": "[encoded data removed]",
            "text/plain": [
              "<Figure size 432x288 with 2 Axes>"
            ]
          },
          "metadata": {
            "needs_background": "light"
          }
        }
      ]
    },
    {
      "cell_type": "markdown",
      "metadata": {
        "id": "JvI9hH3af4nW"
      },
      "source": [
        "Eliminamos las features cell_size y cell_shape que son las que estaban más correlacionadas con el resto de las features. Si bien se ve una correlación entre nuclei y chromatin esta es mínima y por eso no eliminamos ninguna de las 2 features. Tampoco se elimina la feature target es la que se necesita para calcular la eficiencia del algoritmo."
      ]
    },
    {
      "cell_type": "markdown",
      "metadata": {
        "id": "d8CdGm9thukz"
      },
      "source": [
        "**¿Es necesario utilizar one hot enconding? ¿Por qué?**\n",
        "\n",
        "No, porque son todas variables numéricas y el one hot encoding se usa para variables categoricas."
      ]
    },
    {
      "cell_type": "markdown",
      "metadata": {
        "id": "bcHSdcOIh-wD"
      },
      "source": [
        "**¿Es necesario realizar feature scaling? ¿Por qué?**\n",
        "\n"
      ]
    },
    {
      "cell_type": "code",
      "metadata": {
        "colab": {
          "base_uri": "https://localhost:8080/"
        },
        "id": "2LPyOMCSkAZx",
        "outputId": "ac90faba-63a2-464e-c2dc-73cb314d77c4"
      },
      "source": [
        "print(df_sin_corr.loc[df_sin_corr['clump_thicknes'] > 10])\n",
        "print(df_sin_corr.loc[df_sin_corr['clump_thicknes'] < 0])\n",
        "print(df_sin_corr.loc[df_sin_corr['adhesion'] > 10])\n",
        "print(df_sin_corr.loc[df_sin_corr['adhesion'] < 0])\n",
        "print(df_sin_corr.loc[df_sin_corr['epithelial_cell_size'] > 10])\n",
        "print(df_sin_corr.loc[df_sin_corr['epithelial_cell_size'] < 0])\n",
        "print(df_sin_corr.loc[df_sin_corr['nuclei'] > 10])\n",
        "print(df_sin_corr.loc[df_sin_corr['nuclei'] < 0])\n",
        "print(df_sin_corr.loc[df_sin_corr['chromatin'] > 10])\n",
        "print(df_sin_corr.loc[df_sin_corr['chromatin'] < 0])\n",
        "print(df_sin_corr.loc[df_sin_corr['nucleoli'] > 10])\n",
        "print(df_sin_corr.loc[df_sin_corr['nucleoli'] < 0])\n",
        "print(df_sin_corr.loc[df_sin_corr['mitoses'] > 10])\n",
        "print(df_sin_corr.loc[df_sin_corr['mitoses'] < 0])\n",
        "print(df_sin_corr.loc[df_sin_corr['target'] > 10])\n",
        "print(df_sin_corr.loc[df_sin_corr['target'] < 0])"
      ],
      "execution_count": 252,
      "outputs": [
        {
          "output_type": "stream",
          "name": "stdout",
          "text": [
            "Empty DataFrame\n",
            "Columns: [clump_thicknes, adhesion, epithelial_cell_size, nuclei, chromatin, nucleoli, mitoses, target, nuccell_sizelei]\n",
            "Index: []\n",
            "Empty DataFrame\n",
            "Columns: [clump_thicknes, adhesion, epithelial_cell_size, nuclei, chromatin, nucleoli, mitoses, target, nuccell_sizelei]\n",
            "Index: []\n",
            "Empty DataFrame\n",
            "Columns: [clump_thicknes, adhesion, epithelial_cell_size, nuclei, chromatin, nucleoli, mitoses, target, nuccell_sizelei]\n",
            "Index: []\n",
            "Empty DataFrame\n",
            "Columns: [clump_thicknes, adhesion, epithelial_cell_size, nuclei, chromatin, nucleoli, mitoses, target, nuccell_sizelei]\n",
            "Index: []\n",
            "Empty DataFrame\n",
            "Columns: [clump_thicknes, adhesion, epithelial_cell_size, nuclei, chromatin, nucleoli, mitoses, target, nuccell_sizelei]\n",
            "Index: []\n",
            "Empty DataFrame\n",
            "Columns: [clump_thicknes, adhesion, epithelial_cell_size, nuclei, chromatin, nucleoli, mitoses, target, nuccell_sizelei]\n",
            "Index: []\n",
            "Empty DataFrame\n",
            "Columns: [clump_thicknes, adhesion, epithelial_cell_size, nuclei, chromatin, nucleoli, mitoses, target, nuccell_sizelei]\n",
            "Index: []\n",
            "Empty DataFrame\n",
            "Columns: [clump_thicknes, adhesion, epithelial_cell_size, nuclei, chromatin, nucleoli, mitoses, target, nuccell_sizelei]\n",
            "Index: []\n",
            "Empty DataFrame\n",
            "Columns: [clump_thicknes, adhesion, epithelial_cell_size, nuclei, chromatin, nucleoli, mitoses, target, nuccell_sizelei]\n",
            "Index: []\n",
            "Empty DataFrame\n",
            "Columns: [clump_thicknes, adhesion, epithelial_cell_size, nuclei, chromatin, nucleoli, mitoses, target, nuccell_sizelei]\n",
            "Index: []\n",
            "Empty DataFrame\n",
            "Columns: [clump_thicknes, adhesion, epithelial_cell_size, nuclei, chromatin, nucleoli, mitoses, target, nuccell_sizelei]\n",
            "Index: []\n",
            "Empty DataFrame\n",
            "Columns: [clump_thicknes, adhesion, epithelial_cell_size, nuclei, chromatin, nucleoli, mitoses, target, nuccell_sizelei]\n",
            "Index: []\n",
            "Empty DataFrame\n",
            "Columns: [clump_thicknes, adhesion, epithelial_cell_size, nuclei, chromatin, nucleoli, mitoses, target, nuccell_sizelei]\n",
            "Index: []\n",
            "Empty DataFrame\n",
            "Columns: [clump_thicknes, adhesion, epithelial_cell_size, nuclei, chromatin, nucleoli, mitoses, target, nuccell_sizelei]\n",
            "Index: []\n",
            "Empty DataFrame\n",
            "Columns: [clump_thicknes, adhesion, epithelial_cell_size, nuclei, chromatin, nucleoli, mitoses, target, nuccell_sizelei]\n",
            "Index: []\n",
            "Empty DataFrame\n",
            "Columns: [clump_thicknes, adhesion, epithelial_cell_size, nuclei, chromatin, nucleoli, mitoses, target, nuccell_sizelei]\n",
            "Index: []\n"
          ]
        }
      ]
    },
    {
      "cell_type": "markdown",
      "metadata": {
        "id": "x9n3IKxokZ24"
      },
      "source": [
        "No es necesario aplicar feature scaling porque pudimos comprobar (línea de código anterior) que los valores de todas las features están en la escala entre 0 y 10"
      ]
    },
    {
      "cell_type": "markdown",
      "metadata": {
        "id": "hDKBkwOVnQrY"
      },
      "source": [
        "**¿La media de las variables es diferente según si el registro es bengino o maligno?**"
      ]
    },
    {
      "cell_type": "code",
      "metadata": {
        "id": "y1yc9N1BJHi-",
        "colab": {
          "base_uri": "https://localhost:8080/"
        },
        "outputId": "a7f63593-6a79-41c4-8360-b6fd10807150"
      },
      "source": [
        "print(df_sin_corr.groupby('target')['clump_thicknes'].mean())\n",
        "print('-----------------------------------------------')\n",
        "print(df_sin_corr.groupby('target')['adhesion'].mean())\n",
        "print('-----------------------------------------------')\n",
        "print(df_sin_corr.groupby('target')['epithelial_cell_size'].mean())\n",
        "print('-----------------------------------------------')\n",
        "print(df_sin_corr.groupby('target')['nuclei'].mean())\n",
        "print('-----------------------------------------------')\n",
        "print(df_sin_corr.groupby('target')['chromatin'].mean())\n",
        "print('-----------------------------------------------')\n",
        "print(df_sin_corr.groupby('target')['nucleoli'].mean())\n",
        "print('-----------------------------------------------')\n",
        "print(df_sin_corr.groupby('target')['mitoses'].mean())"
      ],
      "execution_count": 253,
      "outputs": [
        {
          "output_type": "stream",
          "name": "stdout",
          "text": [
            "target\n",
            "0    2.956332\n",
            "1    7.195021\n",
            "Name: clump_thicknes, dtype: float64\n",
            "-----------------------------------------------\n",
            "target\n",
            "0    1.364629\n",
            "1    5.547718\n",
            "Name: adhesion, dtype: float64\n",
            "-----------------------------------------------\n",
            "target\n",
            "0    2.120087\n",
            "1    5.298755\n",
            "Name: epithelial_cell_size, dtype: float64\n",
            "-----------------------------------------------\n",
            "target\n",
            "0    1.397380\n",
            "1    7.589212\n",
            "Name: nuclei, dtype: float64\n",
            "-----------------------------------------------\n",
            "target\n",
            "0    2.100437\n",
            "1    5.979253\n",
            "Name: chromatin, dtype: float64\n",
            "-----------------------------------------------\n",
            "target\n",
            "0    1.290393\n",
            "1    5.863071\n",
            "Name: nucleoli, dtype: float64\n",
            "-----------------------------------------------\n",
            "target\n",
            "0    1.063319\n",
            "1    2.589212\n",
            "Name: mitoses, dtype: float64\n"
          ]
        }
      ]
    },
    {
      "cell_type": "markdown",
      "metadata": {
        "id": "hSrSGoM-pkWe"
      },
      "source": [
        "Para todas las features el valor de media para el tipo de tumor (benigno o maligno), es diferente."
      ]
    },
    {
      "cell_type": "markdown",
      "metadata": {
        "id": "xyoaAwcyqnsq"
      },
      "source": [
        "**Grafique las variables separando registros bengignos vs malignos**"
      ]
    },
    {
      "cell_type": "code",
      "metadata": {
        "id": "id7x93Vku7Gx"
      },
      "source": [
        "df_sin_corr_benigno = df.loc[df['target'] == 0]\n",
        "df_sin_corr_maligno = df.loc[df['target'] == 1]\n",
        "labels = ['benigno', 'maligno']"
      ],
      "execution_count": 254,
      "outputs": []
    },
    {
      "cell_type": "code",
      "metadata": {
        "colab": {
          "base_uri": "https://localhost:8080/",
          "height": 299
        },
        "id": "JL2HSUikqp3Z",
        "outputId": "ae157f27-7fe6-43d5-dd14-3242a60c4067"
      },
      "source": [
        "print('Comparación de clump_thicknes según tumor benigno (azul) o malgino (naranja)')\n",
        "df_sin_corr_benigno['clump_thicknes'].plot.hist()\n",
        "df_sin_corr_maligno['clump_thicknes'].plot.hist()\n",
        "pl.legend(labels)"
      ],
      "execution_count": 255,
      "outputs": [
        {
          "output_type": "stream",
          "name": "stdout",
          "text": [
            "Comparación de clump_thicknes según tumor benigno (azul) o malgino (naranja)\n"
          ]
        },
        {
          "output_type": "execute_result",
          "data": {
            "text/plain": [
              "<matplotlib.legend.Legend at 0x7fe4b13fa950>"
            ]
          },
          "metadata": {},
          "execution_count": 255
        },
        {
          "output_type": "display_data",
          "data": {
            "image/png": "[encoded data removed]",
            "text/plain": [
              "<Figure size 432x288 with 1 Axes>"
            ]
          },
          "metadata": {
            "needs_background": "light"
          }
        }
      ]
    },
    {
      "cell_type": "code",
      "metadata": {
        "colab": {
          "base_uri": "https://localhost:8080/",
          "height": 299
        },
        "id": "-mW2R0syvA2A",
        "outputId": "07310380-bb47-4765-e460-47b9e16c48dc"
      },
      "source": [
        "print('Comparación de adhesion según tumor benigno (azul) o malgino (naranja)')\n",
        "df_sin_corr_benigno['adhesion'].plot.hist()\n",
        "df_sin_corr_maligno['adhesion'].plot.hist()\n",
        "pl.legend(labels)"
      ],
      "execution_count": 256,
      "outputs": [
        {
          "output_type": "stream",
          "name": "stdout",
          "text": [
            "Comparación de adhesion según tumor benigno (azul) o malgino (naranja)\n"
          ]
        },
        {
          "output_type": "execute_result",
          "data": {
            "text/plain": [
              "<matplotlib.legend.Legend at 0x7fe4b0f6c610>"
            ]
          },
          "metadata": {},
          "execution_count": 256
        },
        {
          "output_type": "display_data",
          "data": {
            "image/png": "[encoded data removed]",
            "text/plain": [
              "<Figure size 432x288 with 1 Axes>"
            ]
          },
          "metadata": {
            "needs_background": "light"
          }
        }
      ]
    },
    {
      "cell_type": "code",
      "metadata": {
        "colab": {
          "base_uri": "https://localhost:8080/",
          "height": 299
        },
        "id": "gAVnc-I4vaai",
        "outputId": "bbd132d6-7430-464d-8a37-2c7853555c9d"
      },
      "source": [
        "print('Comparación de epithelial_cell_size según tumor benigno (azul) o malgino (naranja)')\n",
        "df_sin_corr_benigno['epithelial_cell_size'].plot.hist()\n",
        "df_sin_corr_maligno['epithelial_cell_size'].plot.hist()\n",
        "pl.legend(labels)"
      ],
      "execution_count": 257,
      "outputs": [
        {
          "output_type": "stream",
          "name": "stdout",
          "text": [
            "Comparación de epithelial_cell_size según tumor benigno (azul) o malgino (naranja)\n"
          ]
        },
        {
          "output_type": "execute_result",
          "data": {
            "text/plain": [
              "<matplotlib.legend.Legend at 0x7fe4b0e79e90>"
            ]
          },
          "metadata": {},
          "execution_count": 257
        },
        {
          "output_type": "display_data",
          "data": {
            "image/png": "[encoded data removed]",
            "text/plain": [
              "<Figure size 432x288 with 1 Axes>"
            ]
          },
          "metadata": {
            "needs_background": "light"
          }
        }
      ]
    },
    {
      "cell_type": "code",
      "metadata": {
        "colab": {
          "base_uri": "https://localhost:8080/",
          "height": 300
        },
        "id": "8Put6Wb2vax4",
        "outputId": "f8e970a6-b2b1-4dea-b312-17c4ef070e98"
      },
      "source": [
        "print('Comparación de nuclei según tumor benigno (azul) o malgino (naranja)')\n",
        "df_sin_corr_benigno['nuclei'].plot.hist()\n",
        "df_sin_corr_maligno['nuclei'].plot.hist()"
      ],
      "execution_count": 258,
      "outputs": [
        {
          "output_type": "stream",
          "name": "stdout",
          "text": [
            "Comparación de nuclei según tumor benigno (azul) o malgino (naranja)\n"
          ]
        },
        {
          "output_type": "execute_result",
          "data": {
            "text/plain": [
              "<matplotlib.axes._subplots.AxesSubplot at 0x7fe4b0de0dd0>"
            ]
          },
          "metadata": {},
          "execution_count": 258
        },
        {
          "output_type": "display_data",
          "data": {
            "image/png": "[encoded data removed]",
            "text/plain": [
              "<Figure size 432x288 with 1 Axes>"
            ]
          },
          "metadata": {
            "needs_background": "light"
          }
        }
      ]
    },
    {
      "cell_type": "code",
      "metadata": {
        "colab": {
          "base_uri": "https://localhost:8080/",
          "height": 299
        },
        "id": "Ak3z5HkYvbBh",
        "outputId": "0e8018eb-e5a3-4c7c-8086-0420ff8c08c4"
      },
      "source": [
        "print('Comparación de chromatin según tumor benigno (azul) o malgino (naranja)')\n",
        "df_sin_corr_benigno['chromatin'].plot.hist()\n",
        "df_sin_corr_maligno['chromatin'].plot.hist()\n",
        "pl.legend(labels)"
      ],
      "execution_count": 259,
      "outputs": [
        {
          "output_type": "stream",
          "name": "stdout",
          "text": [
            "Comparación de chromatin según tumor benigno (azul) o malgino (naranja)\n"
          ]
        },
        {
          "output_type": "execute_result",
          "data": {
            "text/plain": [
              "<matplotlib.legend.Legend at 0x7fe4b0d341d0>"
            ]
          },
          "metadata": {},
          "execution_count": 259
        },
        {
          "output_type": "display_data",
          "data": {
            "image/png": "[encoded data removed]",
            "text/plain": [
              "<Figure size 432x288 with 1 Axes>"
            ]
          },
          "metadata": {
            "needs_background": "light"
          }
        }
      ]
    },
    {
      "cell_type": "code",
      "metadata": {
        "colab": {
          "base_uri": "https://localhost:8080/",
          "height": 299
        },
        "id": "ArsRB5KFvbQD",
        "outputId": "b3232abb-8d5e-4107-bd39-17c12280d876"
      },
      "source": [
        "print('Comparación de nucleoli según tumor benigno (azul) o malgino (naranja)')\n",
        "df_sin_corr_benigno['nucleoli'].plot.hist()\n",
        "df_sin_corr_maligno['nucleoli'].plot.hist()\n",
        "pl.legend(labels)"
      ],
      "execution_count": 260,
      "outputs": [
        {
          "output_type": "stream",
          "name": "stdout",
          "text": [
            "Comparación de nucleoli según tumor benigno (azul) o malgino (naranja)\n"
          ]
        },
        {
          "output_type": "execute_result",
          "data": {
            "text/plain": [
              "<matplotlib.legend.Legend at 0x7fe4b0caed90>"
            ]
          },
          "metadata": {},
          "execution_count": 260
        },
        {
          "output_type": "display_data",
          "data": {
            "image/png": "[encoded data removed]",
            "text/plain": [
              "<Figure size 432x288 with 1 Axes>"
            ]
          },
          "metadata": {
            "needs_background": "light"
          }
        }
      ]
    },
    {
      "cell_type": "code",
      "metadata": {
        "colab": {
          "base_uri": "https://localhost:8080/",
          "height": 299
        },
        "id": "giCB0ul7vbYY",
        "outputId": "e3dd824e-2b0e-48be-a008-6927c269c0d1"
      },
      "source": [
        "print('Comparación de mitoses según tumor benigno (azul) o malgino (naranja)')\n",
        "df_sin_corr_benigno['mitoses'].plot.hist()\n",
        "df_sin_corr_maligno['mitoses'].plot.hist()\n",
        "pl.legend(labels)"
      ],
      "execution_count": 261,
      "outputs": [
        {
          "output_type": "stream",
          "name": "stdout",
          "text": [
            "Comparación de mitoses según tumor benigno (azul) o malgino (naranja)\n"
          ]
        },
        {
          "output_type": "execute_result",
          "data": {
            "text/plain": [
              "<matplotlib.legend.Legend at 0x7fe4b0c5f850>"
            ]
          },
          "metadata": {},
          "execution_count": 261
        },
        {
          "output_type": "display_data",
          "data": {
            "image/png": "[encoded data removed]",
            "text/plain": [
              "<Figure size 432x288 with 1 Axes>"
            ]
          },
          "metadata": {
            "needs_background": "light"
          }
        }
      ]
    },
    {
      "cell_type": "markdown",
      "metadata": {
        "id": "uKtxva3xx0Xj"
      },
      "source": [
        "##B - Arbol de decisión\n"
      ]
    },
    {
      "cell_type": "markdown",
      "metadata": {
        "id": "2TfUmgJqx92T"
      },
      "source": [
        "**Cree un Árbol de Decisión para este set de datos que alcance al menos 93% de precisión. Recuerde realizar los siguientes pasos:**"
      ]
    },
    {
      "cell_type": "markdown",
      "metadata": {
        "id": "8FsrCNQiyCm7"
      },
      "source": [
        "**Separar los datos en conjuntos de entrenamiento y test**"
      ]
    },
    {
      "cell_type": "code",
      "metadata": {
        "id": "-s-9ZQX-upr6"
      },
      "source": [
        "random_state = 31\n",
        "x = df_sin_corr.drop(columns = \"target\")\n",
        "y = df_sin_corr[\"target\"]\n",
        "x_train, x_test, y_train, y_test = train_test_split(x, y, test_size = 0.32, random_state = random_state)"
      ],
      "execution_count": 262,
      "outputs": []
    },
    {
      "cell_type": "markdown",
      "metadata": {
        "id": "CrlKAydFyGA7"
      },
      "source": [
        "**Entrenar el modelo**"
      ]
    },
    {
      "cell_type": "code",
      "metadata": {
        "id": "DIWNsAReupfg",
        "colab": {
          "base_uri": "https://localhost:8080/"
        },
        "outputId": "fb2c6db0-dd2b-4e83-eea8-8aecedd3fa6d"
      },
      "source": [
        "arbol = DecisionTreeClassifier(criterion = \"entropy\",\n",
        "                               random_state = 31)\n",
        "arbol\n",
        "\n",
        "print('Cantidad de datos de entrenamiento X_train', len(x_train))\n",
        "print('Cantidad de datos de entrenamiento Y_train', len(y_train))\n",
        "\n",
        "print('Cantidad de datos de test X_test', len(x_test))\n",
        "print('Cantidad de datos de test y_test', len(y_test))\n",
        "\n"
      ],
      "execution_count": 263,
      "outputs": [
        {
          "output_type": "stream",
          "name": "stdout",
          "text": [
            "Cantidad de datos de entrenamiento X_train 475\n",
            "Cantidad de datos de entrenamiento Y_train 475\n",
            "Cantidad de datos de test X_test 224\n",
            "Cantidad de datos de test y_test 224\n"
          ]
        }
      ]
    },
    {
      "cell_type": "code",
      "metadata": {
        "colab": {
          "base_uri": "https://localhost:8080/"
        },
        "id": "lqluZDoE5ldp",
        "outputId": "a218010d-8345-46eb-fcd7-5e1ca6305a4a"
      },
      "source": [
        "arbol.fit(x_train, y_train)"
      ],
      "execution_count": 264,
      "outputs": [
        {
          "output_type": "execute_result",
          "data": {
            "text/plain": [
              "DecisionTreeClassifier(ccp_alpha=0.0, class_weight=None, criterion='entropy',\n",
              "                       max_depth=None, max_features=None, max_leaf_nodes=None,\n",
              "                       min_impurity_decrease=0.0, min_impurity_split=None,\n",
              "                       min_samples_leaf=1, min_samples_split=2,\n",
              "                       min_weight_fraction_leaf=0.0, presort='deprecated',\n",
              "                       random_state=31, splitter='best')"
            ]
          },
          "metadata": {},
          "execution_count": 264
        }
      ]
    },
    {
      "cell_type": "markdown",
      "metadata": {
        "id": "3fC8UQKByNhr"
      },
      "source": [
        "**Evaluar el modelo**"
      ]
    },
    {
      "cell_type": "code",
      "metadata": {
        "id": "Eyo0DymvyQx3",
        "colab": {
          "base_uri": "https://localhost:8080/"
        },
        "outputId": "12ef8a61-dabf-4534-8097-5c0f5c9bdf87"
      },
      "source": [
        "y_pred = arbol.predict(x_test)\n",
        "accuracy_score(y_pred, y_test)\n"
      ],
      "execution_count": 265,
      "outputs": [
        {
          "output_type": "execute_result",
          "data": {
            "text/plain": [
              "0.9464285714285714"
            ]
          },
          "metadata": {},
          "execution_count": 265
        }
      ]
    },
    {
      "cell_type": "markdown",
      "metadata": {
        "id": "uTDW48wOyTp4"
      },
      "source": [
        "**Graficar el arbol**"
      ]
    },
    {
      "cell_type": "code",
      "metadata": {
        "id": "crmnR-bEyP7I",
        "colab": {
          "base_uri": "https://localhost:8080/",
          "height": 1000
        },
        "outputId": "bc8ccdc3-3ee3-4659-9615-ba889dfbe368"
      },
      "source": [
        "from sklearn import tree\n",
        "tree.plot_tree(arbol) \n",
        "dot_data = tree.export_graphviz(arbol, out_file = None) \n",
        "graph = graphviz.Source(dot_data) \n",
        "graph"
      ],
      "execution_count": 266,
      "outputs": [
        {
          "output_type": "execute_result",
          "data": {
            "text/plain": [
              "<graphviz.files.Source at 0x7fe4b0af1450>"
            ],
            "image/svg+xml": "<?xml version=\"1.0\" encoding=\"UTF-8\" standalone=\"no\"?>\n<!DOCTYPE svg PUBLIC \"-//W3C//DTD SVG 1.1//EN\"\n \"http://www.w3.org/Graphics/SVG/1.1/DTD/svg11.dtd\">\n<!-- Generated by graphviz version 2.40.1 (20161225.0304)\n -->\n<!-- Title: Tree Pages: 1 -->\n<svg width=\"1484pt\" height=\"789pt\"\n viewBox=\"0.00 0.00 1483.50 789.00\" xmlns=\"http://www.w3.org/2000/svg\" xmlns:xlink=\"http://www.w3.org/1999/xlink\">\n<g id=\"graph0\" class=\"graph\" transform=\"scale(1 1) rotate(0) translate(4 785)\">\n<title>Tree</title>\n<polygon fill=\"#ffffff\" stroke=\"transparent\" points=\"-4,4 -4,-785 1479.5,-785 1479.5,4 -4,4\"/>\n<!-- 0 -->\n<g id=\"node1\" class=\"node\">\n<title>0</title>\n<polygon fill=\"none\" stroke=\"#000000\" points=\"589.5,-781 464.5,-781 464.5,-713 589.5,-713 589.5,-781\"/>\n<text text-anchor=\"middle\" x=\"527\" y=\"-765.8\" font-family=\"Times,serif\" font-size=\"14.00\" fill=\"#000000\">X[7] &lt;= 2.5</text>\n<text text-anchor=\"middle\" x=\"527\" y=\"-750.8\" font-family=\"Times,serif\" font-size=\"14.00\" fill=\"#000000\">entropy = 0.932</text>\n<text text-anchor=\"middle\" x=\"527\" y=\"-735.8\" font-family=\"Times,serif\" font-size=\"14.00\" fill=\"#000000\">samples = 475</text>\n<text text-anchor=\"middle\" x=\"527\" y=\"-720.8\" font-family=\"Times,serif\" font-size=\"14.00\" fill=\"#000000\">value = [310, 165]</text>\n</g>\n<!-- 1 -->\n<g id=\"node2\" class=\"node\">\n<title>1</title>\n<polygon fill=\"none\" stroke=\"#000000\" points=\"415,-677 305,-677 305,-609 415,-609 415,-677\"/>\n<text text-anchor=\"middle\" x=\"360\" y=\"-661.8\" font-family=\"Times,serif\" font-size=\"14.00\" fill=\"#000000\">X[3] &lt;= 3.5</text>\n<text text-anchor=\"middle\" x=\"360\" y=\"-646.8\" font-family=\"Times,serif\" font-size=\"14.00\" fill=\"#000000\">entropy = 0.197</text>\n<text text-anchor=\"middle\" x=\"360\" y=\"-631.8\" font-family=\"Times,serif\" font-size=\"14.00\" fill=\"#000000\">samples = 295</text>\n<text text-anchor=\"middle\" x=\"360\" y=\"-616.8\" font-family=\"Times,serif\" font-size=\"14.00\" fill=\"#000000\">value = [286, 9]</text>\n</g>\n<!-- 0&#45;&gt;1 -->\n<g id=\"edge1\" class=\"edge\">\n<title>0&#45;&gt;1</title>\n<path fill=\"none\" stroke=\"#000000\" d=\"M472.318,-712.9465C456.7471,-703.2497 439.6524,-692.6039 423.5996,-682.6069\"/>\n<polygon fill=\"#000000\" stroke=\"#000000\" points=\"425.1437,-679.4453 414.8049,-677.13 421.4432,-685.3873 425.1437,-679.4453\"/>\n<text text-anchor=\"middle\" x=\"420.4658\" y=\"-697.7807\" font-family=\"Times,serif\" font-size=\"14.00\" fill=\"#000000\">True</text>\n</g>\n<!-- 12 -->\n<g id=\"node13\" class=\"node\">\n<title>12</title>\n<polygon fill=\"none\" stroke=\"#000000\" points=\"766.5,-677 649.5,-677 649.5,-609 766.5,-609 766.5,-677\"/>\n<text text-anchor=\"middle\" x=\"708\" y=\"-661.8\" font-family=\"Times,serif\" font-size=\"14.00\" fill=\"#000000\">X[7] &lt;= 3.5</text>\n<text text-anchor=\"middle\" x=\"708\" y=\"-646.8\" font-family=\"Times,serif\" font-size=\"14.00\" fill=\"#000000\">entropy = 0.567</text>\n<text text-anchor=\"middle\" x=\"708\" y=\"-631.8\" font-family=\"Times,serif\" font-size=\"14.00\" fill=\"#000000\">samples = 180</text>\n<text text-anchor=\"middle\" x=\"708\" y=\"-616.8\" font-family=\"Times,serif\" font-size=\"14.00\" fill=\"#000000\">value = [24, 156]</text>\n</g>\n<!-- 0&#45;&gt;12 -->\n<g id=\"edge12\" class=\"edge\">\n<title>0&#45;&gt;12</title>\n<path fill=\"none\" stroke=\"#000000\" d=\"M586.2662,-712.9465C603.4742,-703.059 622.3995,-692.1848 640.0937,-682.018\"/>\n<polygon fill=\"#000000\" stroke=\"#000000\" points=\"642.2919,-684.7916 649.2189,-676.7748 638.8045,-678.7221 642.2919,-684.7916\"/>\n<text text-anchor=\"middle\" x=\"642.6983\" y=\"-697.2095\" font-family=\"Times,serif\" font-size=\"14.00\" fill=\"#000000\">False</text>\n</g>\n<!-- 2 -->\n<g id=\"node3\" class=\"node\">\n<title>2</title>\n<polygon fill=\"none\" stroke=\"#000000\" points=\"231,-573 121,-573 121,-505 231,-505 231,-573\"/>\n<text text-anchor=\"middle\" x=\"176\" y=\"-557.8\" font-family=\"Times,serif\" font-size=\"14.00\" fill=\"#000000\">X[0] &lt;= 7.0</text>\n<text text-anchor=\"middle\" x=\"176\" y=\"-542.8\" font-family=\"Times,serif\" font-size=\"14.00\" fill=\"#000000\">entropy = 0.035</text>\n<text text-anchor=\"middle\" x=\"176\" y=\"-527.8\" font-family=\"Times,serif\" font-size=\"14.00\" fill=\"#000000\">samples = 275</text>\n<text text-anchor=\"middle\" x=\"176\" y=\"-512.8\" font-family=\"Times,serif\" font-size=\"14.00\" fill=\"#000000\">value = [274, 1]</text>\n</g>\n<!-- 1&#45;&gt;2 -->\n<g id=\"edge2\" class=\"edge\">\n<title>1&#45;&gt;2</title>\n<path fill=\"none\" stroke=\"#000000\" d=\"M304.7939,-611.7966C284.4166,-600.279 261.156,-587.1316 240.0607,-575.2082\"/>\n<polygon fill=\"#000000\" stroke=\"#000000\" points=\"241.595,-572.0551 231.1671,-570.1814 238.1505,-578.149 241.595,-572.0551\"/>\n</g>\n<!-- 7 -->\n<g id=\"node8\" class=\"node\">\n<title>7</title>\n<polygon fill=\"none\" stroke=\"#000000\" points=\"415,-573 305,-573 305,-505 415,-505 415,-573\"/>\n<text text-anchor=\"middle\" x=\"360\" y=\"-557.8\" font-family=\"Times,serif\" font-size=\"14.00\" fill=\"#000000\">X[0] &lt;= 3.5</text>\n<text text-anchor=\"middle\" x=\"360\" y=\"-542.8\" font-family=\"Times,serif\" font-size=\"14.00\" fill=\"#000000\">entropy = 0.971</text>\n<text text-anchor=\"middle\" x=\"360\" y=\"-527.8\" font-family=\"Times,serif\" font-size=\"14.00\" fill=\"#000000\">samples = 20</text>\n<text text-anchor=\"middle\" x=\"360\" y=\"-512.8\" font-family=\"Times,serif\" font-size=\"14.00\" fill=\"#000000\">value = [12, 8]</text>\n</g>\n<!-- 1&#45;&gt;7 -->\n<g id=\"edge7\" class=\"edge\">\n<title>1&#45;&gt;7</title>\n<path fill=\"none\" stroke=\"#000000\" d=\"M360,-608.9465C360,-600.776 360,-591.9318 360,-583.3697\"/>\n<polygon fill=\"#000000\" stroke=\"#000000\" points=\"363.5001,-583.13 360,-573.13 356.5001,-583.13 363.5001,-583.13\"/>\n</g>\n<!-- 3 -->\n<g id=\"node4\" class=\"node\">\n<title>3</title>\n<polygon fill=\"none\" stroke=\"#000000\" points=\"110,-461.5 0,-461.5 0,-408.5 110,-408.5 110,-461.5\"/>\n<text text-anchor=\"middle\" x=\"55\" y=\"-446.3\" font-family=\"Times,serif\" font-size=\"14.00\" fill=\"#000000\">entropy = 0.0</text>\n<text text-anchor=\"middle\" x=\"55\" y=\"-431.3\" font-family=\"Times,serif\" font-size=\"14.00\" fill=\"#000000\">samples = 273</text>\n<text text-anchor=\"middle\" x=\"55\" y=\"-416.3\" font-family=\"Times,serif\" font-size=\"14.00\" fill=\"#000000\">value = [273, 0]</text>\n</g>\n<!-- 2&#45;&gt;3 -->\n<g id=\"edge3\" class=\"edge\">\n<title>2&#45;&gt;3</title>\n<path fill=\"none\" stroke=\"#000000\" d=\"M136.3801,-504.9465C122.6676,-493.1606 107.3239,-479.9726 93.6873,-468.2519\"/>\n<polygon fill=\"#000000\" stroke=\"#000000\" points=\"95.7459,-465.4061 85.8808,-461.5422 91.1831,-470.7147 95.7459,-465.4061\"/>\n</g>\n<!-- 4 -->\n<g id=\"node5\" class=\"node\">\n<title>4</title>\n<polygon fill=\"none\" stroke=\"#000000\" points=\"223.5,-469 128.5,-469 128.5,-401 223.5,-401 223.5,-469\"/>\n<text text-anchor=\"middle\" x=\"176\" y=\"-453.8\" font-family=\"Times,serif\" font-size=\"14.00\" fill=\"#000000\">X[3] &lt;= 2.0</text>\n<text text-anchor=\"middle\" x=\"176\" y=\"-438.8\" font-family=\"Times,serif\" font-size=\"14.00\" fill=\"#000000\">entropy = 1.0</text>\n<text text-anchor=\"middle\" x=\"176\" y=\"-423.8\" font-family=\"Times,serif\" font-size=\"14.00\" fill=\"#000000\">samples = 2</text>\n<text text-anchor=\"middle\" x=\"176\" y=\"-408.8\" font-family=\"Times,serif\" font-size=\"14.00\" fill=\"#000000\">value = [1, 1]</text>\n</g>\n<!-- 2&#45;&gt;4 -->\n<g id=\"edge4\" class=\"edge\">\n<title>2&#45;&gt;4</title>\n<path fill=\"none\" stroke=\"#000000\" d=\"M176,-504.9465C176,-496.776 176,-487.9318 176,-479.3697\"/>\n<polygon fill=\"#000000\" stroke=\"#000000\" points=\"179.5001,-479.13 176,-469.13 172.5001,-479.13 179.5001,-479.13\"/>\n</g>\n<!-- 5 -->\n<g id=\"node6\" class=\"node\">\n<title>5</title>\n<polygon fill=\"none\" stroke=\"#000000\" points=\"117.5,-357.5 22.5,-357.5 22.5,-304.5 117.5,-304.5 117.5,-357.5\"/>\n<text text-anchor=\"middle\" x=\"70\" y=\"-342.3\" font-family=\"Times,serif\" font-size=\"14.00\" fill=\"#000000\">entropy = 0.0</text>\n<text text-anchor=\"middle\" x=\"70\" y=\"-327.3\" font-family=\"Times,serif\" font-size=\"14.00\" fill=\"#000000\">samples = 1</text>\n<text text-anchor=\"middle\" x=\"70\" y=\"-312.3\" font-family=\"Times,serif\" font-size=\"14.00\" fill=\"#000000\">value = [1, 0]</text>\n</g>\n<!-- 4&#45;&gt;5 -->\n<g id=\"edge5\" class=\"edge\">\n<title>4&#45;&gt;5</title>\n<path fill=\"none\" stroke=\"#000000\" d=\"M141.2916,-400.9465C129.3913,-389.2707 116.0886,-376.219 104.2267,-364.5809\"/>\n<polygon fill=\"#000000\" stroke=\"#000000\" points=\"106.6419,-362.0473 97.0526,-357.5422 101.7395,-367.0439 106.6419,-362.0473\"/>\n</g>\n<!-- 6 -->\n<g id=\"node7\" class=\"node\">\n<title>6</title>\n<polygon fill=\"none\" stroke=\"#000000\" points=\"230.5,-357.5 135.5,-357.5 135.5,-304.5 230.5,-304.5 230.5,-357.5\"/>\n<text text-anchor=\"middle\" x=\"183\" y=\"-342.3\" font-family=\"Times,serif\" font-size=\"14.00\" fill=\"#000000\">entropy = 0.0</text>\n<text text-anchor=\"middle\" x=\"183\" y=\"-327.3\" font-family=\"Times,serif\" font-size=\"14.00\" fill=\"#000000\">samples = 1</text>\n<text text-anchor=\"middle\" x=\"183\" y=\"-312.3\" font-family=\"Times,serif\" font-size=\"14.00\" fill=\"#000000\">value = [0, 1]</text>\n</g>\n<!-- 4&#45;&gt;6 -->\n<g id=\"edge6\" class=\"edge\">\n<title>4&#45;&gt;6</title>\n<path fill=\"none\" stroke=\"#000000\" d=\"M178.2921,-400.9465C179.0112,-390.2621 179.8079,-378.4254 180.5383,-367.5742\"/>\n<polygon fill=\"#000000\" stroke=\"#000000\" points=\"184.034,-367.7547 181.2135,-357.5422 177.0498,-367.2845 184.034,-367.7547\"/>\n</g>\n<!-- 8 -->\n<g id=\"node9\" class=\"node\">\n<title>8</title>\n<polygon fill=\"none\" stroke=\"#000000\" points=\"342.5,-461.5 241.5,-461.5 241.5,-408.5 342.5,-408.5 342.5,-461.5\"/>\n<text text-anchor=\"middle\" x=\"292\" y=\"-446.3\" font-family=\"Times,serif\" font-size=\"14.00\" fill=\"#000000\">entropy = 0.0</text>\n<text text-anchor=\"middle\" x=\"292\" y=\"-431.3\" font-family=\"Times,serif\" font-size=\"14.00\" fill=\"#000000\">samples = 11</text>\n<text text-anchor=\"middle\" x=\"292\" y=\"-416.3\" font-family=\"Times,serif\" font-size=\"14.00\" fill=\"#000000\">value = [11, 0]</text>\n</g>\n<!-- 7&#45;&gt;8 -->\n<g id=\"edge8\" class=\"edge\">\n<title>7&#45;&gt;8</title>\n<path fill=\"none\" stroke=\"#000000\" d=\"M337.7343,-504.9465C330.4602,-493.8215 322.3694,-481.4473 315.0396,-470.237\"/>\n<polygon fill=\"#000000\" stroke=\"#000000\" points=\"317.7564,-467.9965 309.3545,-461.5422 311.8976,-471.8273 317.7564,-467.9965\"/>\n</g>\n<!-- 9 -->\n<g id=\"node10\" class=\"node\">\n<title>9</title>\n<polygon fill=\"none\" stroke=\"#000000\" points=\"471,-469 361,-469 361,-401 471,-401 471,-469\"/>\n<text text-anchor=\"middle\" x=\"416\" y=\"-453.8\" font-family=\"Times,serif\" font-size=\"14.00\" fill=\"#000000\">X[4] &lt;= 1.5</text>\n<text text-anchor=\"middle\" x=\"416\" y=\"-438.8\" font-family=\"Times,serif\" font-size=\"14.00\" fill=\"#000000\">entropy = 0.503</text>\n<text text-anchor=\"middle\" x=\"416\" y=\"-423.8\" font-family=\"Times,serif\" font-size=\"14.00\" fill=\"#000000\">samples = 9</text>\n<text text-anchor=\"middle\" x=\"416\" y=\"-408.8\" font-family=\"Times,serif\" font-size=\"14.00\" fill=\"#000000\">value = [1, 8]</text>\n</g>\n<!-- 7&#45;&gt;9 -->\n<g id=\"edge9\" class=\"edge\">\n<title>7&#45;&gt;9</title>\n<path fill=\"none\" stroke=\"#000000\" d=\"M378.3365,-504.9465C382.9777,-496.3271 388.0227,-486.9579 392.8671,-477.9611\"/>\n<polygon fill=\"#000000\" stroke=\"#000000\" points=\"395.9629,-479.5941 397.6223,-469.13 389.7996,-476.2754 395.9629,-479.5941\"/>\n</g>\n<!-- 10 -->\n<g id=\"node11\" class=\"node\">\n<title>10</title>\n<polygon fill=\"none\" stroke=\"#000000\" points=\"350.5,-357.5 255.5,-357.5 255.5,-304.5 350.5,-304.5 350.5,-357.5\"/>\n<text text-anchor=\"middle\" x=\"303\" y=\"-342.3\" font-family=\"Times,serif\" font-size=\"14.00\" fill=\"#000000\">entropy = 0.0</text>\n<text text-anchor=\"middle\" x=\"303\" y=\"-327.3\" font-family=\"Times,serif\" font-size=\"14.00\" fill=\"#000000\">samples = 1</text>\n<text text-anchor=\"middle\" x=\"303\" y=\"-312.3\" font-family=\"Times,serif\" font-size=\"14.00\" fill=\"#000000\">value = [1, 0]</text>\n</g>\n<!-- 9&#45;&gt;10 -->\n<g id=\"edge10\" class=\"edge\">\n<title>9&#45;&gt;10</title>\n<path fill=\"none\" stroke=\"#000000\" d=\"M378.9996,-400.9465C366.3134,-389.2707 352.1322,-376.219 339.487,-364.5809\"/>\n<polygon fill=\"#000000\" stroke=\"#000000\" points=\"341.5673,-361.7389 331.8391,-357.5422 336.8269,-366.8895 341.5673,-361.7389\"/>\n</g>\n<!-- 11 -->\n<g id=\"node12\" class=\"node\">\n<title>11</title>\n<polygon fill=\"none\" stroke=\"#000000\" points=\"463.5,-357.5 368.5,-357.5 368.5,-304.5 463.5,-304.5 463.5,-357.5\"/>\n<text text-anchor=\"middle\" x=\"416\" y=\"-342.3\" font-family=\"Times,serif\" font-size=\"14.00\" fill=\"#000000\">entropy = 0.0</text>\n<text text-anchor=\"middle\" x=\"416\" y=\"-327.3\" font-family=\"Times,serif\" font-size=\"14.00\" fill=\"#000000\">samples = 8</text>\n<text text-anchor=\"middle\" x=\"416\" y=\"-312.3\" font-family=\"Times,serif\" font-size=\"14.00\" fill=\"#000000\">value = [0, 8]</text>\n</g>\n<!-- 9&#45;&gt;11 -->\n<g id=\"edge11\" class=\"edge\">\n<title>9&#45;&gt;11</title>\n<path fill=\"none\" stroke=\"#000000\" d=\"M416,-400.9465C416,-390.2621 416,-378.4254 416,-367.5742\"/>\n<polygon fill=\"#000000\" stroke=\"#000000\" points=\"419.5001,-367.5421 416,-357.5422 412.5001,-367.5422 419.5001,-367.5421\"/>\n</g>\n<!-- 13 -->\n<g id=\"node14\" class=\"node\">\n<title>13</title>\n<polygon fill=\"none\" stroke=\"#000000\" points=\"763,-573 653,-573 653,-505 763,-505 763,-573\"/>\n<text text-anchor=\"middle\" x=\"708\" y=\"-557.8\" font-family=\"Times,serif\" font-size=\"14.00\" fill=\"#000000\">X[3] &lt;= 2.5</text>\n<text text-anchor=\"middle\" x=\"708\" y=\"-542.8\" font-family=\"Times,serif\" font-size=\"14.00\" fill=\"#000000\">entropy = 1.0</text>\n<text text-anchor=\"middle\" x=\"708\" y=\"-527.8\" font-family=\"Times,serif\" font-size=\"14.00\" fill=\"#000000\">samples = 36</text>\n<text text-anchor=\"middle\" x=\"708\" y=\"-512.8\" font-family=\"Times,serif\" font-size=\"14.00\" fill=\"#000000\">value = [18, 18]</text>\n</g>\n<!-- 12&#45;&gt;13 -->\n<g id=\"edge13\" class=\"edge\">\n<title>12&#45;&gt;13</title>\n<path fill=\"none\" stroke=\"#000000\" d=\"M708,-608.9465C708,-600.776 708,-591.9318 708,-583.3697\"/>\n<polygon fill=\"#000000\" stroke=\"#000000\" points=\"711.5001,-583.13 708,-573.13 704.5001,-583.13 711.5001,-583.13\"/>\n</g>\n<!-- 24 -->\n<g id=\"node25\" class=\"node\">\n<title>24</title>\n<polygon fill=\"none\" stroke=\"#000000\" points=\"1122,-573 1012,-573 1012,-505 1122,-505 1122,-573\"/>\n<text text-anchor=\"middle\" x=\"1067\" y=\"-557.8\" font-family=\"Times,serif\" font-size=\"14.00\" fill=\"#000000\">X[4] &lt;= 3.5</text>\n<text text-anchor=\"middle\" x=\"1067\" y=\"-542.8\" font-family=\"Times,serif\" font-size=\"14.00\" fill=\"#000000\">entropy = 0.25</text>\n<text text-anchor=\"middle\" x=\"1067\" y=\"-527.8\" font-family=\"Times,serif\" font-size=\"14.00\" fill=\"#000000\">samples = 144</text>\n<text text-anchor=\"middle\" x=\"1067\" y=\"-512.8\" font-family=\"Times,serif\" font-size=\"14.00\" fill=\"#000000\">value = [6, 138]</text>\n</g>\n<!-- 12&#45;&gt;24 -->\n<g id=\"edge24\" class=\"edge\">\n<title>12&#45;&gt;24</title>\n<path fill=\"none\" stroke=\"#000000\" d=\"M766.8795,-625.943C831.6266,-607.1862 935.3441,-577.1399 1002.3154,-557.7387\"/>\n<polygon fill=\"#000000\" stroke=\"#000000\" points=\"1003.2896,-561.1005 1011.9208,-554.9561 1001.3418,-554.3769 1003.2896,-561.1005\"/>\n</g>\n<!-- 14 -->\n<g id=\"node15\" class=\"node\">\n<title>14</title>\n<polygon fill=\"none\" stroke=\"#000000\" points=\"699,-469 589,-469 589,-401 699,-401 699,-469\"/>\n<text text-anchor=\"middle\" x=\"644\" y=\"-453.8\" font-family=\"Times,serif\" font-size=\"14.00\" fill=\"#000000\">X[5] &lt;= 8.5</text>\n<text text-anchor=\"middle\" x=\"644\" y=\"-438.8\" font-family=\"Times,serif\" font-size=\"14.00\" fill=\"#000000\">entropy = 0.323</text>\n<text text-anchor=\"middle\" x=\"644\" y=\"-423.8\" font-family=\"Times,serif\" font-size=\"14.00\" fill=\"#000000\">samples = 17</text>\n<text text-anchor=\"middle\" x=\"644\" y=\"-408.8\" font-family=\"Times,serif\" font-size=\"14.00\" fill=\"#000000\">value = [16, 1]</text>\n</g>\n<!-- 13&#45;&gt;14 -->\n<g id=\"edge14\" class=\"edge\">\n<title>13&#45;&gt;14</title>\n<path fill=\"none\" stroke=\"#000000\" d=\"M687.044,-504.9465C681.6845,-496.2373 675.8539,-486.7626 670.2647,-477.6801\"/>\n<polygon fill=\"#000000\" stroke=\"#000000\" points=\"673.2249,-475.8122 665.0031,-469.13 667.2633,-479.481 673.2249,-475.8122\"/>\n</g>\n<!-- 17 -->\n<g id=\"node18\" class=\"node\">\n<title>17</title>\n<polygon fill=\"none\" stroke=\"#000000\" points=\"827,-469 717,-469 717,-401 827,-401 827,-469\"/>\n<text text-anchor=\"middle\" x=\"772\" y=\"-453.8\" font-family=\"Times,serif\" font-size=\"14.00\" fill=\"#000000\">X[1] &lt;= 4.5</text>\n<text text-anchor=\"middle\" x=\"772\" y=\"-438.8\" font-family=\"Times,serif\" font-size=\"14.00\" fill=\"#000000\">entropy = 0.485</text>\n<text text-anchor=\"middle\" x=\"772\" y=\"-423.8\" font-family=\"Times,serif\" font-size=\"14.00\" fill=\"#000000\">samples = 19</text>\n<text text-anchor=\"middle\" x=\"772\" y=\"-408.8\" font-family=\"Times,serif\" font-size=\"14.00\" fill=\"#000000\">value = [2, 17]</text>\n</g>\n<!-- 13&#45;&gt;17 -->\n<g id=\"edge17\" class=\"edge\">\n<title>13&#45;&gt;17</title>\n<path fill=\"none\" stroke=\"#000000\" d=\"M728.956,-504.9465C734.3155,-496.2373 740.1461,-486.7626 745.7353,-477.6801\"/>\n<polygon fill=\"#000000\" stroke=\"#000000\" points=\"748.7367,-479.481 750.9969,-469.13 742.7751,-475.8122 748.7367,-479.481\"/>\n</g>\n<!-- 15 -->\n<g id=\"node16\" class=\"node\">\n<title>15</title>\n<polygon fill=\"none\" stroke=\"#000000\" points=\"584,-357.5 482,-357.5 482,-304.5 584,-304.5 584,-357.5\"/>\n<text text-anchor=\"middle\" x=\"533\" y=\"-342.3\" font-family=\"Times,serif\" font-size=\"14.00\" fill=\"#000000\">entropy = 0.0</text>\n<text text-anchor=\"middle\" x=\"533\" y=\"-327.3\" font-family=\"Times,serif\" font-size=\"14.00\" fill=\"#000000\">samples = 16</text>\n<text text-anchor=\"middle\" x=\"533\" y=\"-312.3\" font-family=\"Times,serif\" font-size=\"14.00\" fill=\"#000000\">value = [16, 0]</text>\n</g>\n<!-- 14&#45;&gt;15 -->\n<g id=\"edge15\" class=\"edge\">\n<title>14&#45;&gt;15</title>\n<path fill=\"none\" stroke=\"#000000\" d=\"M607.6544,-400.9465C595.1928,-389.2707 581.2626,-376.219 568.8412,-364.5809\"/>\n<polygon fill=\"#000000\" stroke=\"#000000\" points=\"571.0191,-361.8253 561.3287,-357.5422 566.2331,-366.9335 571.0191,-361.8253\"/>\n</g>\n<!-- 16 -->\n<g id=\"node17\" class=\"node\">\n<title>16</title>\n<polygon fill=\"none\" stroke=\"#000000\" points=\"697.5,-357.5 602.5,-357.5 602.5,-304.5 697.5,-304.5 697.5,-357.5\"/>\n<text text-anchor=\"middle\" x=\"650\" y=\"-342.3\" font-family=\"Times,serif\" font-size=\"14.00\" fill=\"#000000\">entropy = 0.0</text>\n<text text-anchor=\"middle\" x=\"650\" y=\"-327.3\" font-family=\"Times,serif\" font-size=\"14.00\" fill=\"#000000\">samples = 1</text>\n<text text-anchor=\"middle\" x=\"650\" y=\"-312.3\" font-family=\"Times,serif\" font-size=\"14.00\" fill=\"#000000\">value = [0, 1]</text>\n</g>\n<!-- 14&#45;&gt;16 -->\n<g id=\"edge16\" class=\"edge\">\n<title>14&#45;&gt;16</title>\n<path fill=\"none\" stroke=\"#000000\" d=\"M645.9646,-400.9465C646.581,-390.2621 647.2639,-378.4254 647.8899,-367.5742\"/>\n<polygon fill=\"#000000\" stroke=\"#000000\" points=\"651.3869,-367.7272 648.4687,-357.5422 644.3985,-367.3239 651.3869,-367.7272\"/>\n</g>\n<!-- 18 -->\n<g id=\"node19\" class=\"node\">\n<title>18</title>\n<polygon fill=\"none\" stroke=\"#000000\" points=\"818,-357.5 716,-357.5 716,-304.5 818,-304.5 818,-357.5\"/>\n<text text-anchor=\"middle\" x=\"767\" y=\"-342.3\" font-family=\"Times,serif\" font-size=\"14.00\" fill=\"#000000\">entropy = 0.0</text>\n<text text-anchor=\"middle\" x=\"767\" y=\"-327.3\" font-family=\"Times,serif\" font-size=\"14.00\" fill=\"#000000\">samples = 14</text>\n<text text-anchor=\"middle\" x=\"767\" y=\"-312.3\" font-family=\"Times,serif\" font-size=\"14.00\" fill=\"#000000\">value = [0, 14]</text>\n</g>\n<!-- 17&#45;&gt;18 -->\n<g id=\"edge18\" class=\"edge\">\n<title>17&#45;&gt;18</title>\n<path fill=\"none\" stroke=\"#000000\" d=\"M770.3628,-400.9465C769.8491,-390.2621 769.2801,-378.4254 768.7584,-367.5742\"/>\n<polygon fill=\"#000000\" stroke=\"#000000\" points=\"772.2523,-367.3625 768.2761,-357.5422 765.2604,-367.6987 772.2523,-367.3625\"/>\n</g>\n<!-- 19 -->\n<g id=\"node20\" class=\"node\">\n<title>19</title>\n<polygon fill=\"none\" stroke=\"#000000\" points=\"946,-365 836,-365 836,-297 946,-297 946,-365\"/>\n<text text-anchor=\"middle\" x=\"891\" y=\"-349.8\" font-family=\"Times,serif\" font-size=\"14.00\" fill=\"#000000\">X[1] &lt;= 7.0</text>\n<text text-anchor=\"middle\" x=\"891\" y=\"-334.8\" font-family=\"Times,serif\" font-size=\"14.00\" fill=\"#000000\">entropy = 0.971</text>\n<text text-anchor=\"middle\" x=\"891\" y=\"-319.8\" font-family=\"Times,serif\" font-size=\"14.00\" fill=\"#000000\">samples = 5</text>\n<text text-anchor=\"middle\" x=\"891\" y=\"-304.8\" font-family=\"Times,serif\" font-size=\"14.00\" fill=\"#000000\">value = [2, 3]</text>\n</g>\n<!-- 17&#45;&gt;19 -->\n<g id=\"edge19\" class=\"edge\">\n<title>17&#45;&gt;19</title>\n<path fill=\"none\" stroke=\"#000000\" d=\"M810.9651,-400.9465C821.6495,-391.6088 833.3409,-381.3911 844.4066,-371.7203\"/>\n<polygon fill=\"#000000\" stroke=\"#000000\" points=\"846.7209,-374.346 851.9474,-365.13 842.1145,-369.0752 846.7209,-374.346\"/>\n</g>\n<!-- 20 -->\n<g id=\"node21\" class=\"node\">\n<title>20</title>\n<polygon fill=\"none\" stroke=\"#000000\" points=\"826,-261 716,-261 716,-193 826,-193 826,-261\"/>\n<text text-anchor=\"middle\" x=\"771\" y=\"-245.8\" font-family=\"Times,serif\" font-size=\"14.00\" fill=\"#000000\">X[4] &lt;= 3.5</text>\n<text text-anchor=\"middle\" x=\"771\" y=\"-230.8\" font-family=\"Times,serif\" font-size=\"14.00\" fill=\"#000000\">entropy = 0.918</text>\n<text text-anchor=\"middle\" x=\"771\" y=\"-215.8\" font-family=\"Times,serif\" font-size=\"14.00\" fill=\"#000000\">samples = 3</text>\n<text text-anchor=\"middle\" x=\"771\" y=\"-200.8\" font-family=\"Times,serif\" font-size=\"14.00\" fill=\"#000000\">value = [2, 1]</text>\n</g>\n<!-- 19&#45;&gt;20 -->\n<g id=\"edge20\" class=\"edge\">\n<title>19&#45;&gt;20</title>\n<path fill=\"none\" stroke=\"#000000\" d=\"M851.7075,-296.9465C840.9333,-287.6088 829.1436,-277.3911 817.985,-267.7203\"/>\n<polygon fill=\"#000000\" stroke=\"#000000\" points=\"820.2299,-265.0344 810.3808,-261.13 815.6454,-270.3243 820.2299,-265.0344\"/>\n</g>\n<!-- 23 -->\n<g id=\"node24\" class=\"node\">\n<title>23</title>\n<polygon fill=\"none\" stroke=\"#000000\" points=\"939.5,-253.5 844.5,-253.5 844.5,-200.5 939.5,-200.5 939.5,-253.5\"/>\n<text text-anchor=\"middle\" x=\"892\" y=\"-238.3\" font-family=\"Times,serif\" font-size=\"14.00\" fill=\"#000000\">entropy = 0.0</text>\n<text text-anchor=\"middle\" x=\"892\" y=\"-223.3\" font-family=\"Times,serif\" font-size=\"14.00\" fill=\"#000000\">samples = 2</text>\n<text text-anchor=\"middle\" x=\"892\" y=\"-208.3\" font-family=\"Times,serif\" font-size=\"14.00\" fill=\"#000000\">value = [0, 2]</text>\n</g>\n<!-- 19&#45;&gt;23 -->\n<g id=\"edge23\" class=\"edge\">\n<title>19&#45;&gt;23</title>\n<path fill=\"none\" stroke=\"#000000\" d=\"M891.3274,-296.9465C891.4302,-286.2621 891.544,-274.4254 891.6483,-263.5742\"/>\n<polygon fill=\"#000000\" stroke=\"#000000\" points=\"895.1484,-263.5754 891.7448,-253.5422 888.1487,-263.508 895.1484,-263.5754\"/>\n</g>\n<!-- 21 -->\n<g id=\"node22\" class=\"node\">\n<title>21</title>\n<polygon fill=\"none\" stroke=\"#000000\" points=\"762.5,-149.5 667.5,-149.5 667.5,-96.5 762.5,-96.5 762.5,-149.5\"/>\n<text text-anchor=\"middle\" x=\"715\" y=\"-134.3\" font-family=\"Times,serif\" font-size=\"14.00\" fill=\"#000000\">entropy = 0.0</text>\n<text text-anchor=\"middle\" x=\"715\" y=\"-119.3\" font-family=\"Times,serif\" font-size=\"14.00\" fill=\"#000000\">samples = 2</text>\n<text text-anchor=\"middle\" x=\"715\" y=\"-104.3\" font-family=\"Times,serif\" font-size=\"14.00\" fill=\"#000000\">value = [2, 0]</text>\n</g>\n<!-- 20&#45;&gt;21 -->\n<g id=\"edge21\" class=\"edge\">\n<title>20&#45;&gt;21</title>\n<path fill=\"none\" stroke=\"#000000\" d=\"M752.6635,-192.9465C746.7324,-181.9316 740.1419,-169.6922 734.1532,-158.5703\"/>\n<polygon fill=\"#000000\" stroke=\"#000000\" points=\"737.1146,-156.6875 729.2919,-149.5422 730.9513,-160.0063 737.1146,-156.6875\"/>\n</g>\n<!-- 22 -->\n<g id=\"node23\" class=\"node\">\n<title>22</title>\n<polygon fill=\"none\" stroke=\"#000000\" points=\"875.5,-149.5 780.5,-149.5 780.5,-96.5 875.5,-96.5 875.5,-149.5\"/>\n<text text-anchor=\"middle\" x=\"828\" y=\"-134.3\" font-family=\"Times,serif\" font-size=\"14.00\" fill=\"#000000\">entropy = 0.0</text>\n<text text-anchor=\"middle\" x=\"828\" y=\"-119.3\" font-family=\"Times,serif\" font-size=\"14.00\" fill=\"#000000\">samples = 1</text>\n<text text-anchor=\"middle\" x=\"828\" y=\"-104.3\" font-family=\"Times,serif\" font-size=\"14.00\" fill=\"#000000\">value = [0, 1]</text>\n</g>\n<!-- 20&#45;&gt;22 -->\n<g id=\"edge22\" class=\"edge\">\n<title>20&#45;&gt;22</title>\n<path fill=\"none\" stroke=\"#000000\" d=\"M789.6639,-192.9465C795.7009,-181.9316 802.4091,-169.6922 808.5047,-158.5703\"/>\n<polygon fill=\"#000000\" stroke=\"#000000\" points=\"811.7158,-159.9936 813.4529,-149.5422 805.5773,-156.6292 811.7158,-159.9936\"/>\n</g>\n<!-- 25 -->\n<g id=\"node26\" class=\"node\">\n<title>25</title>\n<polygon fill=\"none\" stroke=\"#000000\" points=\"1122,-469 1012,-469 1012,-401 1122,-401 1122,-469\"/>\n<text text-anchor=\"middle\" x=\"1067\" y=\"-453.8\" font-family=\"Times,serif\" font-size=\"14.00\" fill=\"#000000\">X[0] &lt;= 6.5</text>\n<text text-anchor=\"middle\" x=\"1067\" y=\"-438.8\" font-family=\"Times,serif\" font-size=\"14.00\" fill=\"#000000\">entropy = 0.691</text>\n<text text-anchor=\"middle\" x=\"1067\" y=\"-423.8\" font-family=\"Times,serif\" font-size=\"14.00\" fill=\"#000000\">samples = 27</text>\n<text text-anchor=\"middle\" x=\"1067\" y=\"-408.8\" font-family=\"Times,serif\" font-size=\"14.00\" fill=\"#000000\">value = [5, 22]</text>\n</g>\n<!-- 24&#45;&gt;25 -->\n<g id=\"edge25\" class=\"edge\">\n<title>24&#45;&gt;25</title>\n<path fill=\"none\" stroke=\"#000000\" d=\"M1067,-504.9465C1067,-496.776 1067,-487.9318 1067,-479.3697\"/>\n<polygon fill=\"#000000\" stroke=\"#000000\" points=\"1070.5001,-479.13 1067,-469.13 1063.5001,-479.13 1070.5001,-479.13\"/>\n</g>\n<!-- 34 -->\n<g id=\"node35\" class=\"node\">\n<title>34</title>\n<polygon fill=\"none\" stroke=\"#000000\" points=\"1305,-469 1195,-469 1195,-401 1305,-401 1305,-469\"/>\n<text text-anchor=\"middle\" x=\"1250\" y=\"-453.8\" font-family=\"Times,serif\" font-size=\"14.00\" fill=\"#000000\">X[7] &lt;= 4.5</text>\n<text text-anchor=\"middle\" x=\"1250\" y=\"-438.8\" font-family=\"Times,serif\" font-size=\"14.00\" fill=\"#000000\">entropy = 0.071</text>\n<text text-anchor=\"middle\" x=\"1250\" y=\"-423.8\" font-family=\"Times,serif\" font-size=\"14.00\" fill=\"#000000\">samples = 117</text>\n<text text-anchor=\"middle\" x=\"1250\" y=\"-408.8\" font-family=\"Times,serif\" font-size=\"14.00\" fill=\"#000000\">value = [1, 116]</text>\n</g>\n<!-- 24&#45;&gt;34 -->\n<g id=\"edge34\" class=\"edge\">\n<title>24&#45;&gt;34</title>\n<path fill=\"none\" stroke=\"#000000\" d=\"M1122.4027,-507.5143C1142.4693,-496.1104 1165.2944,-483.1387 1186.0374,-471.3503\"/>\n<polygon fill=\"#000000\" stroke=\"#000000\" points=\"1187.8209,-474.3625 1194.7857,-466.3786 1184.3622,-468.2767 1187.8209,-474.3625\"/>\n</g>\n<!-- 26 -->\n<g id=\"node27\" class=\"node\">\n<title>26</title>\n<polygon fill=\"none\" stroke=\"#000000\" points=\"1059.5,-365 964.5,-365 964.5,-297 1059.5,-297 1059.5,-365\"/>\n<text text-anchor=\"middle\" x=\"1012\" y=\"-349.8\" font-family=\"Times,serif\" font-size=\"14.00\" fill=\"#000000\">X[1] &lt;= 5.5</text>\n<text text-anchor=\"middle\" x=\"1012\" y=\"-334.8\" font-family=\"Times,serif\" font-size=\"14.00\" fill=\"#000000\">entropy = 1.0</text>\n<text text-anchor=\"middle\" x=\"1012\" y=\"-319.8\" font-family=\"Times,serif\" font-size=\"14.00\" fill=\"#000000\">samples = 10</text>\n<text text-anchor=\"middle\" x=\"1012\" y=\"-304.8\" font-family=\"Times,serif\" font-size=\"14.00\" fill=\"#000000\">value = [5, 5]</text>\n</g>\n<!-- 25&#45;&gt;26 -->\n<g id=\"edge26\" class=\"edge\">\n<title>25&#45;&gt;26</title>\n<path fill=\"none\" stroke=\"#000000\" d=\"M1048.9909,-400.9465C1044.4801,-392.4169 1039.5809,-383.153 1034.8686,-374.2424\"/>\n<polygon fill=\"#000000\" stroke=\"#000000\" points=\"1037.8185,-372.3337 1030.0495,-365.13 1031.6306,-375.6062 1037.8185,-372.3337\"/>\n</g>\n<!-- 33 -->\n<g id=\"node34\" class=\"node\">\n<title>33</title>\n<polygon fill=\"none\" stroke=\"#000000\" points=\"1180,-357.5 1078,-357.5 1078,-304.5 1180,-304.5 1180,-357.5\"/>\n<text text-anchor=\"middle\" x=\"1129\" y=\"-342.3\" font-family=\"Times,serif\" font-size=\"14.00\" fill=\"#000000\">entropy = 0.0</text>\n<text text-anchor=\"middle\" x=\"1129\" y=\"-327.3\" font-family=\"Times,serif\" font-size=\"14.00\" fill=\"#000000\">samples = 17</text>\n<text text-anchor=\"middle\" x=\"1129\" y=\"-312.3\" font-family=\"Times,serif\" font-size=\"14.00\" fill=\"#000000\">value = [0, 17]</text>\n</g>\n<!-- 25&#45;&gt;33 -->\n<g id=\"edge33\" class=\"edge\">\n<title>25&#45;&gt;33</title>\n<path fill=\"none\" stroke=\"#000000\" d=\"M1087.3011,-400.9465C1093.9334,-389.8215 1101.3103,-377.4473 1107.9933,-366.237\"/>\n<polygon fill=\"#000000\" stroke=\"#000000\" points=\"1111.0624,-367.9239 1113.1768,-357.5422 1105.0498,-364.3394 1111.0624,-367.9239\"/>\n</g>\n<!-- 27 -->\n<g id=\"node28\" class=\"node\">\n<title>27</title>\n<polygon fill=\"none\" stroke=\"#000000\" points=\"1062.5,-261 959.5,-261 959.5,-193 1062.5,-193 1062.5,-261\"/>\n<text text-anchor=\"middle\" x=\"1011\" y=\"-245.8\" font-family=\"Times,serif\" font-size=\"14.00\" fill=\"#000000\">X[3] &lt;= 9.0</text>\n<text text-anchor=\"middle\" x=\"1011\" y=\"-230.8\" font-family=\"Times,serif\" font-size=\"14.00\" fill=\"#000000\">entropy = 0.65</text>\n<text text-anchor=\"middle\" x=\"1011\" y=\"-215.8\" font-family=\"Times,serif\" font-size=\"14.00\" fill=\"#000000\">samples = 6</text>\n<text text-anchor=\"middle\" x=\"1011\" y=\"-200.8\" font-family=\"Times,serif\" font-size=\"14.00\" fill=\"#000000\">value = [5, 1]</text>\n</g>\n<!-- 26&#45;&gt;27 -->\n<g id=\"edge27\" class=\"edge\">\n<title>26&#45;&gt;27</title>\n<path fill=\"none\" stroke=\"#000000\" d=\"M1011.6726,-296.9465C1011.594,-288.776 1011.509,-279.9318 1011.4266,-271.3697\"/>\n<polygon fill=\"#000000\" stroke=\"#000000\" points=\"1014.9243,-271.0958 1011.3282,-261.13 1007.9246,-271.1632 1014.9243,-271.0958\"/>\n</g>\n<!-- 32 -->\n<g id=\"node33\" class=\"node\">\n<title>32</title>\n<polygon fill=\"none\" stroke=\"#000000\" points=\"1175.5,-253.5 1080.5,-253.5 1080.5,-200.5 1175.5,-200.5 1175.5,-253.5\"/>\n<text text-anchor=\"middle\" x=\"1128\" y=\"-238.3\" font-family=\"Times,serif\" font-size=\"14.00\" fill=\"#000000\">entropy = 0.0</text>\n<text text-anchor=\"middle\" x=\"1128\" y=\"-223.3\" font-family=\"Times,serif\" font-size=\"14.00\" fill=\"#000000\">samples = 4</text>\n<text text-anchor=\"middle\" x=\"1128\" y=\"-208.3\" font-family=\"Times,serif\" font-size=\"14.00\" fill=\"#000000\">value = [0, 4]</text>\n</g>\n<!-- 26&#45;&gt;32 -->\n<g id=\"edge32\" class=\"edge\">\n<title>26&#45;&gt;32</title>\n<path fill=\"none\" stroke=\"#000000\" d=\"M1049.9827,-296.9465C1063.1286,-285.1606 1077.8382,-271.9726 1090.9113,-260.2519\"/>\n<polygon fill=\"#000000\" stroke=\"#000000\" points=\"1093.286,-262.8236 1098.3953,-253.5422 1088.6131,-257.6116 1093.286,-262.8236\"/>\n</g>\n<!-- 28 -->\n<g id=\"node29\" class=\"node\">\n<title>28</title>\n<polygon fill=\"none\" stroke=\"#000000\" points=\"1024.5,-149.5 929.5,-149.5 929.5,-96.5 1024.5,-96.5 1024.5,-149.5\"/>\n<text text-anchor=\"middle\" x=\"977\" y=\"-134.3\" font-family=\"Times,serif\" font-size=\"14.00\" fill=\"#000000\">entropy = 0.0</text>\n<text text-anchor=\"middle\" x=\"977\" y=\"-119.3\" font-family=\"Times,serif\" font-size=\"14.00\" fill=\"#000000\">samples = 4</text>\n<text text-anchor=\"middle\" x=\"977\" y=\"-104.3\" font-family=\"Times,serif\" font-size=\"14.00\" fill=\"#000000\">value = [4, 0]</text>\n</g>\n<!-- 27&#45;&gt;28 -->\n<g id=\"edge28\" class=\"edge\">\n<title>27&#45;&gt;28</title>\n<path fill=\"none\" stroke=\"#000000\" d=\"M999.8671,-192.9465C996.3381,-182.1519 992.4246,-170.1813 988.8473,-159.2389\"/>\n<polygon fill=\"#000000\" stroke=\"#000000\" points=\"992.1114,-157.9595 985.6772,-149.5422 985.458,-160.1347 992.1114,-157.9595\"/>\n</g>\n<!-- 29 -->\n<g id=\"node30\" class=\"node\">\n<title>29</title>\n<polygon fill=\"none\" stroke=\"#000000\" points=\"1137.5,-157 1042.5,-157 1042.5,-89 1137.5,-89 1137.5,-157\"/>\n<text text-anchor=\"middle\" x=\"1090\" y=\"-141.8\" font-family=\"Times,serif\" font-size=\"14.00\" fill=\"#000000\">X[7] &lt;= 5.0</text>\n<text text-anchor=\"middle\" x=\"1090\" y=\"-126.8\" font-family=\"Times,serif\" font-size=\"14.00\" fill=\"#000000\">entropy = 1.0</text>\n<text text-anchor=\"middle\" x=\"1090\" y=\"-111.8\" font-family=\"Times,serif\" font-size=\"14.00\" fill=\"#000000\">samples = 2</text>\n<text text-anchor=\"middle\" x=\"1090\" y=\"-96.8\" font-family=\"Times,serif\" font-size=\"14.00\" fill=\"#000000\">value = [1, 1]</text>\n</g>\n<!-- 27&#45;&gt;29 -->\n<g id=\"edge29\" class=\"edge\">\n<title>27&#45;&gt;29</title>\n<path fill=\"none\" stroke=\"#000000\" d=\"M1036.8676,-192.9465C1043.6196,-184.0578 1050.9774,-174.3716 1058.0059,-165.1188\"/>\n<polygon fill=\"#000000\" stroke=\"#000000\" points=\"1060.8125,-167.2102 1064.0743,-157.13 1055.2383,-162.976 1060.8125,-167.2102\"/>\n</g>\n<!-- 30 -->\n<g id=\"node31\" class=\"node\">\n<title>30</title>\n<polygon fill=\"none\" stroke=\"#000000\" points=\"1080.5,-53 985.5,-53 985.5,0 1080.5,0 1080.5,-53\"/>\n<text text-anchor=\"middle\" x=\"1033\" y=\"-37.8\" font-family=\"Times,serif\" font-size=\"14.00\" fill=\"#000000\">entropy = 0.0</text>\n<text text-anchor=\"middle\" x=\"1033\" y=\"-22.8\" font-family=\"Times,serif\" font-size=\"14.00\" fill=\"#000000\">samples = 1</text>\n<text text-anchor=\"middle\" x=\"1033\" y=\"-7.8\" font-family=\"Times,serif\" font-size=\"14.00\" fill=\"#000000\">value = [1, 0]</text>\n</g>\n<!-- 29&#45;&gt;30 -->\n<g id=\"edge30\" class=\"edge\">\n<title>29&#45;&gt;30</title>\n<path fill=\"none\" stroke=\"#000000\" d=\"M1069.9039,-88.9777C1064.7656,-80.2786 1059.227,-70.9018 1054.0425,-62.1247\"/>\n<polygon fill=\"#000000\" stroke=\"#000000\" points=\"1056.899,-60.0786 1048.7996,-53.2485 1050.8719,-63.6387 1056.899,-60.0786\"/>\n</g>\n<!-- 31 -->\n<g id=\"node32\" class=\"node\">\n<title>31</title>\n<polygon fill=\"none\" stroke=\"#000000\" points=\"1193.5,-53 1098.5,-53 1098.5,0 1193.5,0 1193.5,-53\"/>\n<text text-anchor=\"middle\" x=\"1146\" y=\"-37.8\" font-family=\"Times,serif\" font-size=\"14.00\" fill=\"#000000\">entropy = 0.0</text>\n<text text-anchor=\"middle\" x=\"1146\" y=\"-22.8\" font-family=\"Times,serif\" font-size=\"14.00\" fill=\"#000000\">samples = 1</text>\n<text text-anchor=\"middle\" x=\"1146\" y=\"-7.8\" font-family=\"Times,serif\" font-size=\"14.00\" fill=\"#000000\">value = [0, 1]</text>\n</g>\n<!-- 29&#45;&gt;31 -->\n<g id=\"edge31\" class=\"edge\">\n<title>29&#45;&gt;31</title>\n<path fill=\"none\" stroke=\"#000000\" d=\"M1109.7435,-88.9777C1114.7917,-80.2786 1120.2331,-70.9018 1125.3266,-62.1247\"/>\n<polygon fill=\"#000000\" stroke=\"#000000\" points=\"1128.4855,-63.6544 1130.4776,-53.2485 1122.4311,-60.1409 1128.4855,-63.6544\"/>\n</g>\n<!-- 35 -->\n<g id=\"node36\" class=\"node\">\n<title>35</title>\n<polygon fill=\"none\" stroke=\"#000000\" points=\"1301.5,-365 1198.5,-365 1198.5,-297 1301.5,-297 1301.5,-365\"/>\n<text text-anchor=\"middle\" x=\"1250\" y=\"-349.8\" font-family=\"Times,serif\" font-size=\"14.00\" fill=\"#000000\">X[5] &lt;= 7.0</text>\n<text text-anchor=\"middle\" x=\"1250\" y=\"-334.8\" font-family=\"Times,serif\" font-size=\"14.00\" fill=\"#000000\">entropy = 0.31</text>\n<text text-anchor=\"middle\" x=\"1250\" y=\"-319.8\" font-family=\"Times,serif\" font-size=\"14.00\" fill=\"#000000\">samples = 18</text>\n<text text-anchor=\"middle\" x=\"1250\" y=\"-304.8\" font-family=\"Times,serif\" font-size=\"14.00\" fill=\"#000000\">value = [1, 17]</text>\n</g>\n<!-- 34&#45;&gt;35 -->\n<g id=\"edge35\" class=\"edge\">\n<title>34&#45;&gt;35</title>\n<path fill=\"none\" stroke=\"#000000\" d=\"M1250,-400.9465C1250,-392.776 1250,-383.9318 1250,-375.3697\"/>\n<polygon fill=\"#000000\" stroke=\"#000000\" points=\"1253.5001,-375.13 1250,-365.13 1246.5001,-375.13 1253.5001,-375.13\"/>\n</g>\n<!-- 40 -->\n<g id=\"node41\" class=\"node\">\n<title>40</title>\n<polygon fill=\"none\" stroke=\"#000000\" points=\"1422,-357.5 1320,-357.5 1320,-304.5 1422,-304.5 1422,-357.5\"/>\n<text text-anchor=\"middle\" x=\"1371\" y=\"-342.3\" font-family=\"Times,serif\" font-size=\"14.00\" fill=\"#000000\">entropy = 0.0</text>\n<text text-anchor=\"middle\" x=\"1371\" y=\"-327.3\" font-family=\"Times,serif\" font-size=\"14.00\" fill=\"#000000\">samples = 99</text>\n<text text-anchor=\"middle\" x=\"1371\" y=\"-312.3\" font-family=\"Times,serif\" font-size=\"14.00\" fill=\"#000000\">value = [0, 99]</text>\n</g>\n<!-- 34&#45;&gt;40 -->\n<g id=\"edge40\" class=\"edge\">\n<title>34&#45;&gt;40</title>\n<path fill=\"none\" stroke=\"#000000\" d=\"M1289.6199,-400.9465C1303.3324,-389.1606 1318.6761,-375.9726 1332.3127,-364.2519\"/>\n<polygon fill=\"#000000\" stroke=\"#000000\" points=\"1334.8169,-366.7147 1340.1192,-357.5422 1330.2541,-361.4061 1334.8169,-366.7147\"/>\n</g>\n<!-- 36 -->\n<g id=\"node37\" class=\"node\">\n<title>36</title>\n<polygon fill=\"none\" stroke=\"#000000\" points=\"1299,-253.5 1197,-253.5 1197,-200.5 1299,-200.5 1299,-253.5\"/>\n<text text-anchor=\"middle\" x=\"1248\" y=\"-238.3\" font-family=\"Times,serif\" font-size=\"14.00\" fill=\"#000000\">entropy = 0.0</text>\n<text text-anchor=\"middle\" x=\"1248\" y=\"-223.3\" font-family=\"Times,serif\" font-size=\"14.00\" fill=\"#000000\">samples = 14</text>\n<text text-anchor=\"middle\" x=\"1248\" y=\"-208.3\" font-family=\"Times,serif\" font-size=\"14.00\" fill=\"#000000\">value = [0, 14]</text>\n</g>\n<!-- 35&#45;&gt;36 -->\n<g id=\"edge36\" class=\"edge\">\n<title>35&#45;&gt;36</title>\n<path fill=\"none\" stroke=\"#000000\" d=\"M1249.3451,-296.9465C1249.1397,-286.2621 1248.912,-274.4254 1248.7034,-263.5742\"/>\n<polygon fill=\"#000000\" stroke=\"#000000\" points=\"1252.2021,-263.473 1248.5104,-253.5422 1245.2034,-263.6076 1252.2021,-263.473\"/>\n</g>\n<!-- 37 -->\n<g id=\"node38\" class=\"node\">\n<title>37</title>\n<polygon fill=\"none\" stroke=\"#000000\" points=\"1427,-261 1317,-261 1317,-193 1427,-193 1427,-261\"/>\n<text text-anchor=\"middle\" x=\"1372\" y=\"-245.8\" font-family=\"Times,serif\" font-size=\"14.00\" fill=\"#000000\">X[5] &lt;= 8.5</text>\n<text text-anchor=\"middle\" x=\"1372\" y=\"-230.8\" font-family=\"Times,serif\" font-size=\"14.00\" fill=\"#000000\">entropy = 0.811</text>\n<text text-anchor=\"middle\" x=\"1372\" y=\"-215.8\" font-family=\"Times,serif\" font-size=\"14.00\" fill=\"#000000\">samples = 4</text>\n<text text-anchor=\"middle\" x=\"1372\" y=\"-200.8\" font-family=\"Times,serif\" font-size=\"14.00\" fill=\"#000000\">value = [1, 3]</text>\n</g>\n<!-- 35&#45;&gt;37 -->\n<g id=\"edge37\" class=\"edge\">\n<title>35&#45;&gt;37</title>\n<path fill=\"none\" stroke=\"#000000\" d=\"M1289.9474,-296.9465C1300.9012,-287.6088 1312.8873,-277.3911 1324.232,-267.7203\"/>\n<polygon fill=\"#000000\" stroke=\"#000000\" points=\"1326.6233,-270.2809 1331.9629,-261.13 1322.0821,-264.9538 1326.6233,-270.2809\"/>\n</g>\n<!-- 38 -->\n<g id=\"node39\" class=\"node\">\n<title>38</title>\n<polygon fill=\"none\" stroke=\"#000000\" points=\"1362.5,-149.5 1267.5,-149.5 1267.5,-96.5 1362.5,-96.5 1362.5,-149.5\"/>\n<text text-anchor=\"middle\" x=\"1315\" y=\"-134.3\" font-family=\"Times,serif\" font-size=\"14.00\" fill=\"#000000\">entropy = 0.0</text>\n<text text-anchor=\"middle\" x=\"1315\" y=\"-119.3\" font-family=\"Times,serif\" font-size=\"14.00\" fill=\"#000000\">samples = 1</text>\n<text text-anchor=\"middle\" x=\"1315\" y=\"-104.3\" font-family=\"Times,serif\" font-size=\"14.00\" fill=\"#000000\">value = [1, 0]</text>\n</g>\n<!-- 37&#45;&gt;38 -->\n<g id=\"edge38\" class=\"edge\">\n<title>37&#45;&gt;38</title>\n<path fill=\"none\" stroke=\"#000000\" d=\"M1353.3361,-192.9465C1347.2991,-181.9316 1340.5909,-169.6922 1334.4953,-158.5703\"/>\n<polygon fill=\"#000000\" stroke=\"#000000\" points=\"1337.4227,-156.6292 1329.5471,-149.5422 1331.2842,-159.9936 1337.4227,-156.6292\"/>\n</g>\n<!-- 39 -->\n<g id=\"node40\" class=\"node\">\n<title>39</title>\n<polygon fill=\"none\" stroke=\"#000000\" points=\"1475.5,-149.5 1380.5,-149.5 1380.5,-96.5 1475.5,-96.5 1475.5,-149.5\"/>\n<text text-anchor=\"middle\" x=\"1428\" y=\"-134.3\" font-family=\"Times,serif\" font-size=\"14.00\" fill=\"#000000\">entropy = 0.0</text>\n<text text-anchor=\"middle\" x=\"1428\" y=\"-119.3\" font-family=\"Times,serif\" font-size=\"14.00\" fill=\"#000000\">samples = 3</text>\n<text text-anchor=\"middle\" x=\"1428\" y=\"-104.3\" font-family=\"Times,serif\" font-size=\"14.00\" fill=\"#000000\">value = [0, 3]</text>\n</g>\n<!-- 37&#45;&gt;39 -->\n<g id=\"edge39\" class=\"edge\">\n<title>37&#45;&gt;39</title>\n<path fill=\"none\" stroke=\"#000000\" d=\"M1390.3365,-192.9465C1396.2676,-181.9316 1402.8581,-169.6922 1408.8468,-158.5703\"/>\n<polygon fill=\"#000000\" stroke=\"#000000\" points=\"1412.0487,-160.0063 1413.7081,-149.5422 1405.8854,-156.6875 1412.0487,-160.0063\"/>\n</g>\n</g>\n</svg>\n"
          },
          "metadata": {},
          "execution_count": 266
        },
        {
          "output_type": "display_data",
          "data": {
            "image/png": "[encoded data removed]",
            "text/plain": [
              "<Figure size 432x288 with 1 Axes>"
            ]
          },
          "metadata": {
            "needs_background": "light"
          }
        }
      ]
    },
    {
      "cell_type": "markdown",
      "metadata": {
        "id": "oVmP9KxGyYDn"
      },
      "source": [
        "**Explique por qué seleccionó el modelo final argumentando lo observado al modificar los distintos párametros del algoritmo, puede poner como ejemplo otros árboles.**"
      ]
    },
    {
      "cell_type": "code",
      "metadata": {
        "id": "fSYAM___uoH5"
      },
      "source": [
        "arbol2 = DecisionTreeClassifier(max_depth = 1, \n",
        "                                min_samples_split= 3,\n",
        "                                min_samples_leaf=2,\n",
        "                               criterion = \"entropy\")"
      ],
      "execution_count": 267,
      "outputs": []
    },
    {
      "cell_type": "code",
      "metadata": {
        "colab": {
          "base_uri": "https://localhost:8080/"
        },
        "id": "s4jLGr3U_v5v",
        "outputId": "8b2f3013-e212-4498-a60d-994b98172694"
      },
      "source": [
        "arbol2.fit(x_train, y_train)"
      ],
      "execution_count": 268,
      "outputs": [
        {
          "output_type": "execute_result",
          "data": {
            "text/plain": [
              "DecisionTreeClassifier(ccp_alpha=0.0, class_weight=None, criterion='entropy',\n",
              "                       max_depth=1, max_features=None, max_leaf_nodes=None,\n",
              "                       min_impurity_decrease=0.0, min_impurity_split=None,\n",
              "                       min_samples_leaf=2, min_samples_split=3,\n",
              "                       min_weight_fraction_leaf=0.0, presort='deprecated',\n",
              "                       random_state=None, splitter='best')"
            ]
          },
          "metadata": {},
          "execution_count": 268
        }
      ]
    },
    {
      "cell_type": "code",
      "metadata": {
        "colab": {
          "base_uri": "https://localhost:8080/"
        },
        "id": "wJtr29GQ_0x5",
        "outputId": "8086fb6f-e7d4-4180-b5c3-10a0eecca571"
      },
      "source": [
        "print('Arbol1: test ', arbol.score(x_test, y_test), 'train ', arbol.score(x_train,y_train))\n",
        "print('Arbol2: test ', arbol2.score(x_test, y_test),'train ', arbol2.score(x_train,y_train))"
      ],
      "execution_count": 269,
      "outputs": [
        {
          "output_type": "stream",
          "name": "stdout",
          "text": [
            "Arbol1: test  0.9464285714285714 train  1.0\n",
            "Arbol2: test  0.9107142857142857 train  0.9305263157894736\n"
          ]
        }
      ]
    },
    {
      "cell_type": "code",
      "metadata": {
        "colab": {
          "base_uri": "https://localhost:8080/",
          "height": 472
        },
        "id": "6t8WmYQuAMuv",
        "outputId": "b4daa2ef-f109-43a6-9999-5cf8e8e3c38c"
      },
      "source": [
        "from sklearn import tree\n",
        "tree.plot_tree(arbol2) \n",
        "dot_data = tree.export_graphviz(arbol2, out_file = None) \n",
        "graph = graphviz.Source(dot_data) \n",
        "graph"
      ],
      "execution_count": 270,
      "outputs": [
        {
          "output_type": "execute_result",
          "data": {
            "text/plain": [
              "<graphviz.files.Source at 0x7fe4b0aeac10>"
            ],
            "image/svg+xml": "<?xml version=\"1.0\" encoding=\"UTF-8\" standalone=\"no\"?>\n<!DOCTYPE svg PUBLIC \"-//W3C//DTD SVG 1.1//EN\"\n \"http://www.w3.org/Graphics/SVG/1.1/DTD/svg11.dtd\">\n<!-- Generated by graphviz version 2.40.1 (20161225.0304)\n -->\n<!-- Title: Tree Pages: 1 -->\n<svg width=\"254pt\" height=\"165pt\"\n viewBox=\"0.00 0.00 253.50 165.00\" xmlns=\"http://www.w3.org/2000/svg\" xmlns:xlink=\"http://www.w3.org/1999/xlink\">\n<g id=\"graph0\" class=\"graph\" transform=\"scale(1 1) rotate(0) translate(4 161)\">\n<title>Tree</title>\n<polygon fill=\"#ffffff\" stroke=\"transparent\" points=\"-4,4 -4,-161 249.5,-161 249.5,4 -4,4\"/>\n<!-- 0 -->\n<g id=\"node1\" class=\"node\">\n<title>0</title>\n<polygon fill=\"none\" stroke=\"#000000\" points=\"183.5,-157 58.5,-157 58.5,-89 183.5,-89 183.5,-157\"/>\n<text text-anchor=\"middle\" x=\"121\" y=\"-141.8\" font-family=\"Times,serif\" font-size=\"14.00\" fill=\"#000000\">X[7] &lt;= 2.5</text>\n<text text-anchor=\"middle\" x=\"121\" y=\"-126.8\" font-family=\"Times,serif\" font-size=\"14.00\" fill=\"#000000\">entropy = 0.932</text>\n<text text-anchor=\"middle\" x=\"121\" y=\"-111.8\" font-family=\"Times,serif\" font-size=\"14.00\" fill=\"#000000\">samples = 475</text>\n<text text-anchor=\"middle\" x=\"121\" y=\"-96.8\" font-family=\"Times,serif\" font-size=\"14.00\" fill=\"#000000\">value = [310, 165]</text>\n</g>\n<!-- 1 -->\n<g id=\"node2\" class=\"node\">\n<title>1</title>\n<polygon fill=\"none\" stroke=\"#000000\" points=\"110,-53 0,-53 0,0 110,0 110,-53\"/>\n<text text-anchor=\"middle\" x=\"55\" y=\"-37.8\" font-family=\"Times,serif\" font-size=\"14.00\" fill=\"#000000\">entropy = 0.197</text>\n<text text-anchor=\"middle\" x=\"55\" y=\"-22.8\" font-family=\"Times,serif\" font-size=\"14.00\" fill=\"#000000\">samples = 295</text>\n<text text-anchor=\"middle\" x=\"55\" y=\"-7.8\" font-family=\"Times,serif\" font-size=\"14.00\" fill=\"#000000\">value = [286, 9]</text>\n</g>\n<!-- 0&#45;&gt;1 -->\n<g id=\"edge1\" class=\"edge\">\n<title>0&#45;&gt;1</title>\n<path fill=\"none\" stroke=\"#000000\" d=\"M97.7309,-88.9777C91.656,-80.0954 85.0979,-70.5067 78.9865,-61.5711\"/>\n<polygon fill=\"#000000\" stroke=\"#000000\" points=\"81.8286,-59.5267 73.2943,-53.2485 76.0507,-63.4785 81.8286,-59.5267\"/>\n<text text-anchor=\"middle\" x=\"68.6825\" y=\"-74.1194\" font-family=\"Times,serif\" font-size=\"14.00\" fill=\"#000000\">True</text>\n</g>\n<!-- 2 -->\n<g id=\"node3\" class=\"node\">\n<title>2</title>\n<polygon fill=\"none\" stroke=\"#000000\" points=\"245.5,-53 128.5,-53 128.5,0 245.5,0 245.5,-53\"/>\n<text text-anchor=\"middle\" x=\"187\" y=\"-37.8\" font-family=\"Times,serif\" font-size=\"14.00\" fill=\"#000000\">entropy = 0.567</text>\n<text text-anchor=\"middle\" x=\"187\" y=\"-22.8\" font-family=\"Times,serif\" font-size=\"14.00\" fill=\"#000000\">samples = 180</text>\n<text text-anchor=\"middle\" x=\"187\" y=\"-7.8\" font-family=\"Times,serif\" font-size=\"14.00\" fill=\"#000000\">value = [24, 156]</text>\n</g>\n<!-- 0&#45;&gt;2 -->\n<g id=\"edge2\" class=\"edge\">\n<title>0&#45;&gt;2</title>\n<path fill=\"none\" stroke=\"#000000\" d=\"M144.2691,-88.9777C150.344,-80.0954 156.9021,-70.5067 163.0135,-61.5711\"/>\n<polygon fill=\"#000000\" stroke=\"#000000\" points=\"165.9493,-63.4785 168.7057,-53.2485 160.1714,-59.5267 165.9493,-63.4785\"/>\n<text text-anchor=\"middle\" x=\"173.3175\" y=\"-74.1194\" font-family=\"Times,serif\" font-size=\"14.00\" fill=\"#000000\">False</text>\n</g>\n</g>\n</svg>\n"
          },
          "metadata": {},
          "execution_count": 270
        },
        {
          "output_type": "display_data",
          "data": {
            "image/png": "[encoded data removed]",
            "text/plain": [
              "<Figure size 432x288 with 1 Axes>"
            ]
          },
          "metadata": {
            "needs_background": "light"
          }
        }
      ]
    }
  ]
}